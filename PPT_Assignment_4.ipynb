{
 "cells": [
  {
   "cell_type": "markdown",
   "id": "8286e431",
   "metadata": {},
   "source": [
    "## 💡Question 1\n",
    "Given three integer arrays arr1, arr2 and arr3 sorted in strictly increasing order, return a sorted array of only the integers that appeared in all three arrays."
   ]
  },
  {
   "cell_type": "code",
   "execution_count": 5,
   "id": "7f6b3159",
   "metadata": {},
   "outputs": [],
   "source": [
    "from typing import List\n",
    "\n",
    "def ThreeIntegers(arr1: list, arr2: list, arr3: list) -> List[int]:\n",
    "    i,j,k = 0,0,0\n",
    "    common_elements = list()\n",
    "    \n",
    "    while i<len(arr1) and j<len(arr2) and k<len(arr3):\n",
    "        if arr1[i] == arr2[j] == arr3[k]:\n",
    "            common_elements.append(arr1[i])\n",
    "            i += 1\n",
    "            j += 1\n",
    "            k += 1\n",
    "        \n",
    "        elif arr1[i] < arr2[j]:\n",
    "            i += 1\n",
    "            \n",
    "        elif arr2[j] < arr3[k]:\n",
    "            j += 1\n",
    "            \n",
    "        else:\n",
    "            k += 1\n",
    "            \n",
    "    return common_elements\n",
    "    "
   ]
  },
  {
   "cell_type": "code",
   "execution_count": 6,
   "id": "4e28acbf",
   "metadata": {},
   "outputs": [
    {
     "data": {
      "text/plain": [
       "[1, 5]"
      ]
     },
     "execution_count": 6,
     "metadata": {},
     "output_type": "execute_result"
    }
   ],
   "source": [
    "arr1 = [1,2,3,4,5]\n",
    "arr2 = [1,2,5,7,9]\n",
    "arr3 = [1,3,4,5,8]\n",
    "\n",
    "ThreeIntegers(arr1, arr2, arr3)"
   ]
  },
  {
   "cell_type": "markdown",
   "id": "9e9d750d",
   "metadata": {},
   "source": [
    "## 💡 Question 2\n",
    "\n",
    "Given two **0-indexed** integer arrays nums1 and nums2, return *a list* answer *of size* 2 *where:*\n",
    "\n",
    "- answer[0] *is a list of all **distinct** integers in* nums1 *which are **not** present in* nums2*.*\n",
    "- answer[1] *is a list of all **distinct** integers in* nums2 *which are **not** present in* nums1.\n",
    "\n",
    "**Note** that the integers in the lists may be returned in **any** order.\n",
    "\n"
   ]
  },
  {
   "cell_type": "code",
   "execution_count": 9,
   "id": "3f9758d2",
   "metadata": {},
   "outputs": [],
   "source": [
    "def DistinctValues(nums1: List[int], nums2: List[int]) -> List[List[int]]:\n",
    "    answer1 = list()\n",
    "    answer2 = list()\n",
    "    \n",
    "    for val in set(nums2):\n",
    "        if val not in set(nums1):\n",
    "            answer2.append(val)\n",
    "            \n",
    "    for val in set(nums1):\n",
    "        if val not in set(nums2):\n",
    "            answer1.append(val)\n",
    "            \n",
    "    return [answer1, answer2]\n",
    "            "
   ]
  },
  {
   "cell_type": "code",
   "execution_count": 10,
   "id": "71078450",
   "metadata": {},
   "outputs": [
    {
     "data": {
      "text/plain": [
       "[[1, 3], [4, 6]]"
      ]
     },
     "execution_count": 10,
     "metadata": {},
     "output_type": "execute_result"
    }
   ],
   "source": [
    "nums1, nums2 = [1,2,3], [2,4,6]\n",
    "DistinctValues(nums1, nums2)"
   ]
  },
  {
   "cell_type": "markdown",
   "id": "2d6a144b",
   "metadata": {},
   "source": [
    "## 💡 Question 3\n",
    "Given a 2D integer array matrix, return *the **transpose** of* matrix.\n",
    "\n",
    "The **transpose** of a matrix is the matrix flipped over its main diagonal, switching the matrix's row and column indices."
   ]
  },
  {
   "cell_type": "code",
   "execution_count": 33,
   "id": "b520fada",
   "metadata": {},
   "outputs": [],
   "source": [
    "def Transpose(matrix: List[List[int]]) -> List[List[int]]:\n",
    "    for row in range(len(matrix)):\n",
    "        for col in range(row):\n",
    "            matrix[row][col], matrix[col][row] = matrix[col][row], matrix[row][col]\n",
    "    return matrix\n",
    "    "
   ]
  },
  {
   "cell_type": "code",
   "execution_count": 34,
   "id": "76711b24",
   "metadata": {},
   "outputs": [
    {
     "data": {
      "text/plain": [
       "[[1, 4, 7], [2, 5, 8], [3, 6, 9]]"
      ]
     },
     "execution_count": 34,
     "metadata": {},
     "output_type": "execute_result"
    }
   ],
   "source": [
    "matrix = [[1,2,3],[4,5,6],[7,8,9]]\n",
    "Transpose(matrix)"
   ]
  },
  {
   "cell_type": "markdown",
   "id": "e44d4773",
   "metadata": {},
   "source": [
    "## 💡Question 4\n",
    "Given an integer array nums of 2n integers, group these integers into n pairs (a1, b1), (a2, b2), ..., (an, bn) such that the sum of min(ai, bi) for all i is maximized. Return the maximized sum."
   ]
  },
  {
   "cell_type": "code",
   "execution_count": null,
   "id": "eef0700a",
   "metadata": {},
   "outputs": [],
   "source": [
    "def pair_and_maxsum(nums: list) -> int:\n",
    "    nums.sort()\n",
    "    return sum(nums[::2])"
   ]
  },
  {
   "cell_type": "markdown",
   "id": "3141dbf7",
   "metadata": {},
   "source": [
    "## 💡Question 5\n",
    "You have n coins and you want to build a staircase with these coins. The staircase consists of k rows where the ith row has exactly i coins. The last row of the staircase **may be** incomplete.\n",
    "\n",
    "Given the integer n, return *the number of **complete rows** of the staircase you will build*\n",
    "\n",
    "</aside>"
   ]
  },
  {
   "cell_type": "code",
   "execution_count": 42,
   "id": "1524e6a4",
   "metadata": {},
   "outputs": [],
   "source": [
    "def staircase(n: int):\n",
    "    count = 0\n",
    "    for i in range(1, (n//2 + 2)):\n",
    "        n -= i\n",
    "        if n >= 0:\n",
    "            count += 1\n",
    "            \n",
    "    return count"
   ]
  },
  {
   "cell_type": "code",
   "execution_count": 47,
   "id": "150f9184",
   "metadata": {},
   "outputs": [
    {
     "data": {
      "text/plain": [
       "2"
      ]
     },
     "execution_count": 47,
     "metadata": {},
     "output_type": "execute_result"
    }
   ],
   "source": [
    "staircase(n=5)"
   ]
  },
  {
   "cell_type": "markdown",
   "id": "d10ba53c",
   "metadata": {},
   "source": [
    "## 💡Question 6\n",
    "Given an integer array nums sorted in non-decreasing order, return an array of the squares of each number sorted in non-decreasing order."
   ]
  },
  {
   "cell_type": "code",
   "execution_count": 48,
   "id": "7870d16d",
   "metadata": {},
   "outputs": [],
   "source": [
    "def squaredArray(nums: List[int]) -> List[int]:\n",
    "    squares = [i**2 for i in nums]\n",
    "    squares.sort()\n",
    "    return squares"
   ]
  },
  {
   "cell_type": "code",
   "execution_count": 49,
   "id": "f89f297d",
   "metadata": {},
   "outputs": [
    {
     "data": {
      "text/plain": [
       "[0, 1, 9, 16, 100]"
      ]
     },
     "execution_count": 49,
     "metadata": {},
     "output_type": "execute_result"
    }
   ],
   "source": [
    "squaredArray([-4,-1,0,3,10])"
   ]
  },
  {
   "cell_type": "markdown",
   "id": "a3bf3bc8",
   "metadata": {},
   "source": [
    "## 💡 **Question 7**\n",
    "You are given an m x n matrix M initialized with all 0's and an array of operations ops, where ops[i] = [ai, bi] means M[x][y] should be incremented by one for all 0 <= x < ai and 0 <= y < bi.\n",
    "\n",
    "Count and return *the number of maximum integers in the matrix after performing all the operations"
   ]
  },
  {
   "cell_type": "code",
   "execution_count": 113,
   "id": "c55d634d",
   "metadata": {},
   "outputs": [
    {
     "name": "stdout",
     "output_type": "stream",
     "text": [
      "4\n"
     ]
    }
   ],
   "source": [
    "# Brute force approach\n",
    "\n",
    "from typing import List\n",
    "\n",
    "def matrixIncrement(m: int, n: int, ops: List[List[int]]) -> int:\n",
    "    \n",
    "    # Creating m*n matrix with all elements as 0\n",
    "    M = [[0 for _ in range(n)] for _ in range(m)]\n",
    "    \n",
    "    # Applying increment operation\n",
    "    for i in range(len(ops)):\n",
    "        x = ops[i][0]\n",
    "        y = ops[i][1]\n",
    "        for i in range(x):\n",
    "            for j in range(y):\n",
    "                M[i][j] += 1\n",
    "                \n",
    "    # Finding the maximum value of the matrix\n",
    "    max_value = max(M[x][y] for x in range(len(M)) for y in range(len(M[0])))\n",
    "    \n",
    "    # Counting all the occurances of max_value in the matrix\n",
    "    count = 0\n",
    "    for i in range(len(M)):\n",
    "        for j in range(len(M[0])):\n",
    "            if M[i][j] == max_value:\n",
    "                count += 1\n",
    "    \n",
    "    return count\n",
    "\n",
    "\n",
    "if __name__ == \"__main__\":\n",
    "    m, n = 3, 3\n",
    "    ops = [[2,2],[3,3]]\n",
    "    result = matrixIncrement(m,n,ops)\n",
    "    print(result)"
   ]
  },
  {
   "cell_type": "code",
   "execution_count": 109,
   "id": "88f38519",
   "metadata": {},
   "outputs": [
    {
     "data": {
      "text/plain": [
       "4"
      ]
     },
     "execution_count": 109,
     "metadata": {},
     "output_type": "execute_result"
    }
   ],
   "source": [
    "### Mentos way of solving the problem\n",
    "\n",
    "from typing import List\n",
    "\n",
    "def maxCount(m: int, n: int, ops: List[List[int]]) -> int:\n",
    "    for op in ops:\n",
    "        m = min(m, op[0])\n",
    "        n = min(n, op[1])\n",
    "    return m * n\n",
    "\n",
    "\n",
    "if __name__ == \"__main__\":\n",
    "    m, n = 3, 3\n",
    "    ops = [[2,2],[3,3]]\n",
    "    result = maxCount(m,n,ops)"
   ]
  },
  {
   "cell_type": "markdown",
   "id": "c0f3a9cd",
   "metadata": {},
   "source": [
    "## 💡Question 8\n",
    "\n",
    "Given the array nums consisting of 2n elements in the form [x1,x2,...,xn,y1,y2,...,yn].\n",
    "\n",
    "*Return the array in the form* [x1,y1,x2,y2,...,xn,yn]."
   ]
  },
  {
   "cell_type": "code",
   "execution_count": 114,
   "id": "e0960554",
   "metadata": {},
   "outputs": [
    {
     "name": "stdout",
     "output_type": "stream",
     "text": [
      "[2, 3, 5, 4, 1, 7]\n"
     ]
    }
   ],
   "source": [
    "def question8(nums: List[int], n: int) -> List[int]:\n",
    "    \n",
    "    result = list()\n",
    "    \n",
    "    for i in range(n):\n",
    "        result.append(nums[i])\n",
    "        result.append(nums[i+n])\n",
    "    \n",
    "    return result\n",
    "\n",
    "\n",
    "if __name__ == \"__main__\":\n",
    "    nums, n = [2,5,1,3,4,7], 3\n",
    "    result = question8(nums, n)\n",
    "    print(result)"
   ]
  },
  {
   "cell_type": "code",
   "execution_count": null,
   "id": "4b633732",
   "metadata": {},
   "outputs": [],
   "source": []
  }
 ],
 "metadata": {
  "kernelspec": {
   "display_name": "Python 3 (ipykernel)",
   "language": "python",
   "name": "python3"
  },
  "language_info": {
   "codemirror_mode": {
    "name": "ipython",
    "version": 3
   },
   "file_extension": ".py",
   "mimetype": "text/x-python",
   "name": "python",
   "nbconvert_exporter": "python",
   "pygments_lexer": "ipython3",
   "version": "3.9.12"
  }
 },
 "nbformat": 4,
 "nbformat_minor": 5
}
