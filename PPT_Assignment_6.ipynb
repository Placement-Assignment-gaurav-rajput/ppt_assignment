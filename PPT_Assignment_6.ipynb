{
 "cells": [
  {
   "cell_type": "markdown",
   "id": "6a0870d9",
   "metadata": {},
   "source": [
    "## 💡 Question 1\n",
    "\n",
    "A permutation perm of n + 1 integers of all the integers in the range [0, n] can be represented as a string s of length n where:\n",
    "\n",
    "- s[i] == 'I' if perm[i] < perm[i + 1], and\n",
    "- s[i] == 'D' if perm[i] > perm[i + 1].\n",
    "\n",
    "Given a string s, reconstruct the permutation perm and return it. If there are multiple valid permutations perm, return **any of them**."
   ]
  },
  {
   "cell_type": "code",
   "execution_count": 1,
   "id": "3e55f29f",
   "metadata": {},
   "outputs": [
    {
     "name": "stdout",
     "output_type": "stream",
     "text": [
      "[0, 4, 1, 3, 2]\n"
     ]
    }
   ],
   "source": [
    "def perm(s: str):\n",
    "    left = 0\n",
    "    right = len(s)\n",
    "    res = []\n",
    "    for i in s:\n",
    "        if i == 'I':\n",
    "            res.append(left)\n",
    "            left += 1\n",
    "        else:\n",
    "            res.append(right)\n",
    "            right -= 1\n",
    "    res.append(right)\n",
    "    return res\n",
    "\n",
    "\n",
    "if __name__ == \"__main__\":\n",
    "    nums = 'IDID'\n",
    "    ans = perm(nums)\n",
    "    print(ans)"
   ]
  },
  {
   "cell_type": "markdown",
   "id": "2a9e1f78",
   "metadata": {},
   "source": [
    "## 💡 **Question 2**\n",
    "\n",
    "You are given an m x n integer matrix matrix with the following two properties:\n",
    "\n",
    "- Each row is sorted in non-decreasing order.\n",
    "- The first integer of each row is greater than the last integer of the previous row.\n",
    "\n",
    "Given an integer target, return true *if* target *is in* matrix *or* false *otherwise*.\n",
    "\n",
    "You must write a solution in O(log(m * n)) time complexity."
   ]
  },
  {
   "cell_type": "code",
   "execution_count": 13,
   "id": "bff23422",
   "metadata": {},
   "outputs": [
    {
     "name": "stdout",
     "output_type": "stream",
     "text": [
      "True\n"
     ]
    }
   ],
   "source": [
    "from typing import List\n",
    "\n",
    "def findTargetInMatrix(mat: List[List[int]], target:int) -> bool:\n",
    "    for i in mat:\n",
    "        if target in i:\n",
    "            return True\n",
    "    return False\n",
    "\n",
    "\n",
    "if __name__ == \"__main__\":\n",
    "    matrix = [[1,3,5,7],[10,11,16,20],[23,30,34,60]]\n",
    "    target = 3\n",
    "    print(findTargetInMatrix(matrix, target))\n",
    "    "
   ]
  },
  {
   "cell_type": "markdown",
   "id": "3587464f",
   "metadata": {},
   "source": [
    "Applying Binary_search in the 2D matrix"
   ]
  },
  {
   "cell_type": "code",
   "execution_count": 14,
   "id": "111658d0",
   "metadata": {},
   "outputs": [
    {
     "name": "stdout",
     "output_type": "stream",
     "text": [
      "True\n"
     ]
    }
   ],
   "source": [
    "def BinarySearchMatrix(matrix: List[List[int]], target: int) -> bool:\n",
    "    m, n = len(matrix), len(matrix[0])\n",
    "    left, right = 0, m * n - 1\n",
    "    while left <= right:\n",
    "        mid = (left + right) // 2\n",
    "        row, col = mid // n, mid % n\n",
    "        if matrix[row][col] == target:\n",
    "            return True\n",
    "        elif matrix[row][col] < target:\n",
    "            left = mid + 1\n",
    "        else:\n",
    "            right = mid - 1\n",
    "    return False\n",
    "\n",
    "\n",
    "if __name__ == \"__main__\":\n",
    "    matrix = [[1,3,5,7],[10,11,16,20],[23,30,34,60]]\n",
    "    target = 3\n",
    "    print(BinarySearchMatrix(matrix, target))"
   ]
  },
  {
   "cell_type": "markdown",
   "id": "3fffadeb",
   "metadata": {},
   "source": [
    "## 💡 **Question 3**\n",
    "\n",
    "Given an array of integers arr, return *true if and only if it is a valid mountain array*.\n",
    "\n",
    "Recall that arr is a mountain array if and only if:\n",
    "\n",
    "- arr.length >= 3\n",
    "- There exists some i with 0 < i < arr.length - 1 such that:\n",
    "    - arr[0] < arr[1] < ... < arr[i - 1] < arr[i]\n",
    "    - arr[i] > arr[i + 1] > ... > arr[arr.length - 1]"
   ]
  },
  {
   "cell_type": "markdown",
   "id": "6d6a7e09",
   "metadata": {},
   "source": [
    "**Algorithm: mountainArray()**\n",
    "\n",
    "- Traverse input array from left to right:\n",
    "    - For an array to be 'valid mountain' the elements should strictly increase and then strictly decrease when the length of the array is traversed."
   ]
  },
  {
   "cell_type": "code",
   "execution_count": 30,
   "id": "7db433a0",
   "metadata": {},
   "outputs": [
    {
     "name": "stdout",
     "output_type": "stream",
     "text": [
      "True\n"
     ]
    }
   ],
   "source": [
    "def mountainArray(ar: [List[int]]) -> bool:\n",
    "    if len(ar) < 3:\n",
    "        return False\n",
    "    \n",
    "    left, right = 0, len(ar)-1\n",
    "    \n",
    "    while left < right and ar[left] < ar[left + 1]:\n",
    "        left += 1\n",
    "        \n",
    "    if left==0 or left==right:\n",
    "        return False\n",
    "    \n",
    "    while left < right and ar[left] > ar[left + 1]:\n",
    "        left += 1\n",
    "        \n",
    "    if left == right:\n",
    "        return True\n",
    "    else:\n",
    "        return False\n",
    "            \n",
    "\n",
    "if __name__ == \"__main__\":\n",
    "    array = [0,3,2,1]\n",
    "    print(mountainArray(array))"
   ]
  },
  {
   "cell_type": "markdown",
   "id": "24224a85",
   "metadata": {},
   "source": [
    "**Another approach** \n",
    "\n",
    "**Algorithm: ValidMountain()**\n",
    "\n",
    "- Traverse the input array:\n",
    "    - Move left pointer from left-end of array till peak is reached.\n",
    "    - Move right pointer from right-end of array till peak is reached.\n",
    "    - Check if both pointer are at the same peak."
   ]
  },
  {
   "cell_type": "code",
   "execution_count": 31,
   "id": "54463d18",
   "metadata": {},
   "outputs": [
    {
     "name": "stdout",
     "output_type": "stream",
     "text": [
      "True\n"
     ]
    }
   ],
   "source": [
    "def mountainArray_2(ar: [List[int]]) -> bool:\n",
    "    if len(ar) < 3:\n",
    "        return False\n",
    "    \n",
    "    left, right = 0, len(ar)-1\n",
    " \n",
    "    while left < right and X[left] < X[left + 1]:\n",
    "        left = left + 1\n",
    "\n",
    "    while right > 0 and X[right - 1] > X[right]:\n",
    "        right = right - 1\n",
    "\n",
    "    if left > 0 and left == right and right < len(ar)-1:\n",
    "        return True\n",
    "    else:\n",
    "        return False\n",
    "    \n",
    "    \n",
    "if __name__ == \"__main__\":\n",
    "    array = [0,3,2,1]\n",
    "    print(mountainArray(array))"
   ]
  },
  {
   "cell_type": "markdown",
   "id": "a8d86008",
   "metadata": {},
   "source": [
    "## 💡 **Question 4**\n",
    "\n",
    "Given a binary array nums, return *the maximum length of a contiguous subarray with an equal number of* 0 *and* 1."
   ]
  },
  {
   "cell_type": "markdown",
   "id": "1ccbd243",
   "metadata": {},
   "source": [
    "**Algorithm : equalZeoresOnes()**\n",
    "\n",
    "- Create an empty dictionary d and initialize it with {0:-1}. This is because if the sum of the subarray is 0, then we need to subtract 1 from the index.\n",
    "- Initialize count and max_len to 0.\n",
    "- Traverse through the binary array nums and for each element:\n",
    "    - If the element is 0, add -1 to count.\n",
    "    - If the element is 1, add 1 to count.\n",
    "    - If count is already present in the dictionary d, then update max_len with the maximum of current value of max_len and difference between current index and value of d[count].\n",
    "    - If count is not present in the dictionary d, then add it with its index as value.\n",
    "- Return max_len."
   ]
  },
  {
   "cell_type": "code",
   "execution_count": 40,
   "id": "a1648319",
   "metadata": {},
   "outputs": [
    {
     "name": "stdout",
     "output_type": "stream",
     "text": [
      "6\n"
     ]
    }
   ],
   "source": [
    "from typing import List\n",
    "\n",
    "def equalZeoresOnes(nums: List[int]) -> int:\n",
    "    hashmap = {0:-1}\n",
    "    count = max_len = 0\n",
    "    for i in range(len(nums)):\n",
    "        count += (1 if nums[i] == 1 else -1)\n",
    "        if count in hashmap:\n",
    "            max_len = max(max_len, i-hashmap[count])\n",
    "        else:\n",
    "            hashmap[count] = i\n",
    "    return max_len\n",
    "\n",
    "\n",
    "if __name__ == \"__main__\":\n",
    "    nums = [0,0,1,0,0,0,1,1]\n",
    "    print(equalZeoresOnes(nums))"
   ]
  },
  {
   "cell_type": "code",
   "execution_count": 48,
   "id": "a52669de",
   "metadata": {},
   "outputs": [
    {
     "name": "stdout",
     "output_type": "stream",
     "text": [
      "6\n"
     ]
    }
   ],
   "source": [
    "from typing import List\n",
    "\n",
    "def equalZeroesOnes_2(nums: List[int]) -> int:\n",
    "    n, prefix_sum = len(nums), 0\n",
    "    prefix_sum_map = {0: -1}\n",
    "    max_len = 0\n",
    "    for i, num in enumerate(nums):\n",
    "        prefix_sum += num if num else -1\n",
    "        if prefix_sum not in prefix_sum_map:\n",
    "            prefix_sum_map[prefix_sum] = i\n",
    "        elif i - prefix_sum_map[prefix_sum] > max_len:\n",
    "            max_len = i - prefix_sum_map[prefix_sum]\n",
    "    return max_len\n",
    "\n",
    "\n",
    "if __name__ == \"__main__\":\n",
    "    nums = [0,0,1,0,0,0,1,1]\n",
    "    print(findMaxLength(nums))"
   ]
  },
  {
   "cell_type": "markdown",
   "id": "0214f955",
   "metadata": {},
   "source": [
    "## 💡 **Question 5**\n",
    "\n",
    "The **product sum** of two equal-length arrays a and b is equal to the sum of a[i] * b[i] for all 0 <= i < a.length (**0-indexed**).\n",
    "\n",
    "- For example, if a = [1,2,3,4] and b = [5,2,3,1], the **product sum** would be 1x5 + 2x2 + 3x3 + 4x1 = 22.\n",
    "\n",
    "Given two arrays nums1 and nums2 of length n, return *the **minimum product sum** if you are allowed to **rearrange** the **order** of the elements in* nums1."
   ]
  },
  {
   "cell_type": "code",
   "execution_count": 7,
   "id": "ee2063e5",
   "metadata": {},
   "outputs": [
    {
     "name": "stdout",
     "output_type": "stream",
     "text": [
      "40\n"
     ]
    }
   ],
   "source": [
    "from typing import List\n",
    "\n",
    "def minProductSum(nums1: List[int], nums2: List[int]) -> int:\n",
    "    result = 0\n",
    "    nums1.sort()\n",
    "    for i in range(len(nums1)):\n",
    "        max_idx = nums2.index(max(nums2))\n",
    "        result += nums1[i] * nums2[max_idx]\n",
    "        nums2.pop(max_idx)\n",
    "    return result\n",
    "\n",
    "\n",
    "if __name__ == \"__main__\":\n",
    "    nums1 = [5,3,4,2]\n",
    "    nums2 = [4,2,2,5]\n",
    "    print(minProductSum(nums1, nums2))"
   ]
  },
  {
   "cell_type": "markdown",
   "id": "2a9cfed4",
   "metadata": {},
   "source": [
    "## 💡 **Question 6**\n",
    "\n",
    "An integer array original is transformed into a **doubled** array changed by appending **twice the value** of every element in original, and then randomly **shuffling** the resulting array.\n",
    "\n",
    "Given an array changed, return original *if* changed *is a **doubled** array. If* changed *is not a **doubled** array, return an empty array. The elements in* original *may be returned in **any** order*."
   ]
  },
  {
   "cell_type": "code",
   "execution_count": 10,
   "id": "475e3af8",
   "metadata": {},
   "outputs": [
    {
     "name": "stdout",
     "output_type": "stream",
     "text": [
      "[1, 3, 4]\n"
     ]
    }
   ],
   "source": [
    "from typing import List\n",
    "\n",
    "def findOriginalArray(changed: List[int]) -> List[int]:\n",
    "    if len(changed)%2 != 0:\n",
    "        return []\n",
    "    \n",
    "    freq, original = dict(), list()\n",
    "    \n",
    "    changed.sort()\n",
    "    \n",
    "    for ele in changed:\n",
    "        freq[ele] = freq.get(ele, 0) + 1\n",
    "        \n",
    "    for num in changed:\n",
    "        if freq[num]==0:\n",
    "            continue        \n",
    "        freq[num] -= 1\n",
    "        if freq.get(2*num, 0) > 0:\n",
    "            original.append(num)\n",
    "            freq[2*num] -= 1\n",
    "        else:\n",
    "            return []\n",
    "    return original\n",
    "\n",
    "\n",
    "if __name__ == \"__main__\":\n",
    "    changed = [1,3,4,2,6,8]\n",
    "    print(findOriginalArray(changed))"
   ]
  },
  {
   "cell_type": "markdown",
   "id": "5d88b5ce",
   "metadata": {},
   "source": [
    "## 💡 **Question 7**\n",
    "\n",
    "Given a positive integer n, generate an n x n matrix filled with elements from 1 to n2 in spiral order."
   ]
  },
  {
   "cell_type": "code",
   "execution_count": 40,
   "id": "0b56ea61",
   "metadata": {},
   "outputs": [
    {
     "name": "stdout",
     "output_type": "stream",
     "text": [
      "[[1, 2, 3], [8, 9, 4], [7, 6, 5]]\n"
     ]
    }
   ],
   "source": [
    "from typing import List\n",
    "\n",
    "\n",
    "def spiralMatrix(n: int) -> List[List[int]]:\n",
    "    \n",
    "    matrix = [[0 for j in range(n)] for i in range(n)]\n",
    "    rows, columns = len(matrix), len(matrix[0])\n",
    "    left, right = 0, columns-1\n",
    "    up, down = 0, rows-1\n",
    "    num = 1\n",
    " \n",
    "    while num <= n*n:\n",
    "        # Moving from left to right\n",
    "        for col in range(left, right+1):\n",
    "            matrix[up][col] = num\n",
    "            num += 1\n",
    "        up += 1\n",
    "        \n",
    "        # Moving from up to down\n",
    "        for row in range(up, down+1):\n",
    "            matrix[row][right] = num\n",
    "            num += 1\n",
    "        right -= 1\n",
    "        \n",
    "        # Checking if up & down pointers are on different rows\n",
    "        if up != down:\n",
    "            # Moving from right to left\n",
    "            for col in range(right, left-1, -1):\n",
    "                matrix[down][col] = num\n",
    "                num+=1\n",
    "            down -= 1\n",
    "            \n",
    "        # Make sure we are now on a different column.\n",
    "        if left != right:\n",
    "            # Moving from down to up\n",
    "            for row in range(down, up-1, -1):\n",
    "                matrix[row][left] = num\n",
    "                num += 1\n",
    "            left += 1\n",
    " \n",
    "    return matrix\n",
    "\n",
    "if __name__ == \"__main__\":\n",
    "    n = 4\n",
    "    print(spiralMatrix(n))"
   ]
  },
  {
   "cell_type": "markdown",
   "id": "2de56d26",
   "metadata": {},
   "source": [
    "## 💡 **Question 8**\n",
    "\n",
    "Given two [sparse matrices](https://en.wikipedia.org/wiki/Sparse_matrix) mat1 of size m x k and mat2 of size k x n, return the result of mat1 x mat2. You may assume that multiplication is always possible."
   ]
  },
  {
   "cell_type": "code",
   "execution_count": 47,
   "id": "129319ee",
   "metadata": {},
   "outputs": [
    {
     "name": "stdout",
     "output_type": "stream",
     "text": [
      "[[7, 0, 0], [-7, 0, 3]]\n"
     ]
    }
   ],
   "source": [
    "def MatrixMultiplication(mat1, mat2):\n",
    "    rows = len(mat1)\n",
    "    columns = len(mat2[0])\n",
    "    matrix = [[0 for col in range(columns)] for row in range(rows)]\n",
    "    \n",
    "    for i in range(len(mat1)):\n",
    "        for j in range(len(mat2[0])):\n",
    "            for k in range(len(mat2)):\n",
    "                matrix[i][j] += mat1[i][k] * mat2[k][j]\n",
    "    \n",
    "    return matrix\n",
    "        \n",
    "        \n",
    "if __name__ == \"__main__\":\n",
    "    mat1 = [[1,0,0],[-1,0,3]]\n",
    "    mat2 = [[7,0,0],[0,0,0],[0,0,1]]\n",
    "    print(MatrixMultiplication(mat1, mat2))"
   ]
  }
 ],
 "metadata": {
  "kernelspec": {
   "display_name": "Python 3 (ipykernel)",
   "language": "python",
   "name": "python3"
  },
  "language_info": {
   "codemirror_mode": {
    "name": "ipython",
    "version": 3
   },
   "file_extension": ".py",
   "mimetype": "text/x-python",
   "name": "python",
   "nbconvert_exporter": "python",
   "pygments_lexer": "ipython3",
   "version": "3.9.12"
  }
 },
 "nbformat": 4,
 "nbformat_minor": 5
}
