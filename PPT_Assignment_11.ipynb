{
 "cells": [
  {
   "cell_type": "markdown",
   "id": "578c7a93",
   "metadata": {},
   "source": [
    "💡 **Question 1**\n",
    "\n",
    "Given a non-negative integer `x`, return *the square root of* `x` *rounded down to the nearest integer*. The returned integer should be **non-negative** as well.\n",
    "\n",
    "You **must not use** any built-in exponent function or operator.\n",
    "\n",
    "- For example, do not use `pow(x, 0.5)` in c++ or `x ** 0.5` in python.\n",
    "\n",
    "**Example 1:**\n",
    "    \n",
    "Input: x = 4\n",
    "Output: 2\n",
    "Explanation: The square root of 4 is 2, so we return 2.\n",
    "\n",
    "**Example 2:**\n",
    "    \n",
    "Input: x = 8\n",
    "Output: 2\n",
    "Explanation: The square root of 8 is 2.82842..., and since we round it down to the nearest integer, 2 is returned."
   ]
  },
  {
   "cell_type": "code",
   "execution_count": 4,
   "id": "c1fbc918",
   "metadata": {},
   "outputs": [
    {
     "name": "stdout",
     "output_type": "stream",
     "text": [
      "1\n"
     ]
    }
   ],
   "source": [
    "def squareRoot(x):\n",
    "    if x < 4:\n",
    "        return 1\n",
    "    for i in range(1,x):\n",
    "        if i*i == x:\n",
    "            return i\n",
    "        elif i*i > x:\n",
    "            return i-1\n",
    "        \n",
    "print(squareRoot(x=2))"
   ]
  },
  {
   "cell_type": "markdown",
   "id": "36877a26",
   "metadata": {},
   "source": [
    "💡 **Question 2**\n",
    "\n",
    "A peak element is an element that is strictly greater than its neighbors.\n",
    "\n",
    "Given a **0-indexed** integer array `nums`, find a peak element, and return its index. If the array contains multiple peaks, return the index to **any of the peaks**.\n",
    "\n",
    "You may imagine that `nums[-1] = nums[n] = -∞`. In other words, an element is always considered to be strictly greater than a neighbor that is outside the array.\n",
    "\n",
    "You must write an algorithm that runs in `O(log n)` time.\n",
    "\n",
    "**Example 1:**\n",
    "\n",
    "Input: nums = [1,2,3,1]\n",
    "Output: 2\n",
    "Explanation: 3 is a peak element and your function should return the index number 2.\n",
    "\n",
    "**Example 2:**\n",
    "    \n",
    "Input: nums = [1,2,1,3,5,6,4]\n",
    "Output: 5\n",
    "Explanation: Your function can return either index number 1 where the peak element is 2, or index number 5 where the peak element is 6."
   ]
  },
  {
   "cell_type": "code",
   "execution_count": 1,
   "id": "b64486a3",
   "metadata": {},
   "outputs": [
    {
     "name": "stdout",
     "output_type": "stream",
     "text": [
      "5\n"
     ]
    }
   ],
   "source": [
    "def greaterElement(nums):\n",
    "    n = len(nums)\n",
    "    l, r = 0, n - 1\n",
    "    while l < r:\n",
    "        mid = (l + r) >> 1\n",
    "        if nums[mid] < nums[mid + 1]:\n",
    "            l =  mid + 1\n",
    "        else:\n",
    "            r = mid \n",
    "    return l\n",
    "    \n",
    "nums = [1,2,1,3,5,6,4]   \n",
    "print(greaterElement(nums))"
   ]
  },
  {
   "cell_type": "markdown",
   "id": "1d2bd3b6",
   "metadata": {},
   "source": [
    "💡 **Question 3**\n",
    "\n",
    "****\n",
    "\n",
    "Given an array `nums` containing `n` distinct numbers in the range `[0, n]`, return *the only number in the range that is missing from the array.*\n",
    "\n",
    "**Example 1:**\n",
    "\n",
    "Input: nums = [3,0,1]\n",
    "Output: 2\n",
    "Explanation: n = 3 since there are 3 numbers, so all numbers are in the range [0,3]. 2 is the missing number in the range since it does not appear in nums.\n",
    "\n",
    "**Example 2:**\n",
    "    \n",
    "Input: nums = [0,1]\n",
    "Output: 2\n",
    "Explanation: n = 2 since there are 2 numbers, so all numbers are in the range [0,2]. 2 is the missing number in the range since it does not appear in nums.\n",
    "\n",
    "**Example 3:**\n",
    "\n",
    "Input: nums = [9,6,4,2,3,5,7,0,1]\n",
    "Output: 8\n",
    "Explanation: n = 9 since there are 9 numbers, so all numbers are in the range [0,9]. 8 is the missing number in the range since it does not appear in nums."
   ]
  },
  {
   "cell_type": "code",
   "execution_count": 17,
   "id": "9e312fcd",
   "metadata": {},
   "outputs": [
    {
     "name": "stdout",
     "output_type": "stream",
     "text": [
      "2\n"
     ]
    }
   ],
   "source": [
    "def missingNum(nums):\n",
    "    r = len(nums)-1\n",
    "    l = 0\n",
    "    nums.sort()\n",
    "    while l <= r:\n",
    "        mid = (l+r)//2\n",
    "        \n",
    "        if nums[mid] != nums[mid-1]+1:\n",
    "            return mid-1\n",
    "        elif nums[mid] != nums[mid+1]-1:\n",
    "            return mid+1\n",
    "            \n",
    "        elif sum(nums[l:mid+1]) > ((l+mid)*(mid-l+1)//2):\n",
    "            r = mid\n",
    "        else:\n",
    "            l = mid\n",
    "            \n",
    "nums = [3,0,1] \n",
    "print(missingNum(nums))    "
   ]
  },
  {
   "cell_type": "markdown",
   "id": "cc982e5b",
   "metadata": {},
   "source": [
    "💡 **Question 4**\n",
    "\n",
    "Given an array of integers `nums` containing `n + 1` integers where each integer is in the range `[1, n]` inclusive.\n",
    "\n",
    "There is only **one repeated number** in `nums`, return *this repeated number*.\n",
    "\n",
    "You must solve the problem **without** modifying the array `nums` and uses only constant extra space.\n",
    "\n",
    "**Example 1:**\n",
    "\n",
    "Input: nums = [1,3,4,2,2]\n",
    "Output: 2"
   ]
  },
  {
   "cell_type": "code",
   "execution_count": 20,
   "id": "bdaa81bb",
   "metadata": {},
   "outputs": [
    {
     "name": "stdout",
     "output_type": "stream",
     "text": [
      "2\n"
     ]
    }
   ],
   "source": [
    "def repeatingNum(nums):\n",
    "    r = len(nums)-1\n",
    "    l = 0\n",
    "    nums.sort()\n",
    "    while l <= r:\n",
    "        mid = (l+r)//2\n",
    "        \n",
    "        if nums[mid] == nums[mid-1] or nums[mid] == nums[mid+1]:\n",
    "            return nums[mid]\n",
    "            \n",
    "        elif sum(nums[l:mid+1]) > ((l+mid)*(mid-l+1)//2):\n",
    "            r = mid\n",
    "        else:\n",
    "            l = mid\n",
    "            \n",
    "nums = [1,3,4,2,2]\n",
    "print(repeatingNum(nums)) "
   ]
  },
  {
   "cell_type": "markdown",
   "id": "2f8a8642",
   "metadata": {},
   "source": [
    "💡 **Question 5**\n",
    "\n",
    "Given two integer arrays `nums1` and `nums2`, return *an array of their intersection*. Each element in the result must be **unique** and you may return the result in **any order**.\n",
    "\n",
    "**Example 1:**\n",
    "\n",
    "Input: nums1 = [1,2,2,1], nums2 = [2,2]\n",
    "Output: [2]"
   ]
  },
  {
   "cell_type": "code",
   "execution_count": 23,
   "id": "79ecf9a1",
   "metadata": {},
   "outputs": [
    {
     "name": "stdout",
     "output_type": "stream",
     "text": [
      "[2]\n"
     ]
    }
   ],
   "source": [
    "def intersection(nums1, nums2):\n",
    "    a = []\n",
    "    for i in nums1:\n",
    "        if i not in a and i in nums2:\n",
    "            a.append(i)\n",
    "    return a\n",
    "\n",
    "nums1 = [1,2,2,1]\n",
    "nums2 = [2,2]\n",
    "print(intersection(nums1, nums2))"
   ]
  },
  {
   "cell_type": "markdown",
   "id": "022c630d",
   "metadata": {},
   "source": [
    "💡 **Question 6**\n",
    "\n",
    "Suppose an array of length `n` sorted in ascending order is **rotated** between `1` and `n` times. For example, the array `nums = [0,1,2,4,5,6,7]` might become:\n",
    "\n",
    "- `[4,5,6,7,0,1,2]` if it was rotated `4` times.\n",
    "- `[0,1,2,4,5,6,7]` if it was rotated `7` times.\n",
    "\n",
    "Notice that **rotating** an array `[a[0], a[1], a[2], ..., a[n-1]]` 1 time results in the array `[a[n-1], a[0], a[1], a[2], ..., a[n-2]]`.\n",
    "\n",
    "Given the sorted rotated array `nums` of **unique** elements, return *the minimum element of this array*.\n",
    "\n",
    "You must write an algorithm that runs in `O(log n) time.`\n",
    "\n",
    "**Example 1:**\n",
    "    \n",
    "Input: nums = [3,4,5,1,2]\n",
    "Output: 1\n",
    "Explanation: The original array was [1,2,3,4,5] rotated 3 times."
   ]
  },
  {
   "cell_type": "code",
   "execution_count": 24,
   "id": "fc149f09",
   "metadata": {},
   "outputs": [
    {
     "name": "stdout",
     "output_type": "stream",
     "text": [
      "1\n"
     ]
    }
   ],
   "source": [
    "def findMin(nums):\n",
    "    low,high=0,len(nums)-1\n",
    "    n=len(nums)\n",
    "    while low<=high:\n",
    "        mid=low+(high-low)//2\n",
    "        if nums[mid]<=nums[(mid-1+n)%n] and nums[mid]<=nums[(mid+1)%n]:\n",
    "            return nums[mid]\n",
    "        if nums[mid]>=nums[low]:\n",
    "            if nums[high]>=nums[mid]:\n",
    "                high=mid-1\n",
    "            else:\n",
    "                low=mid+1\n",
    "        else:\n",
    "            high=mid-1\n",
    "\n",
    "    return -1\n",
    "\n",
    "nums = [3,4,5,1,2]\n",
    "print(findMin(nums))"
   ]
  },
  {
   "cell_type": "markdown",
   "id": "f5c85eb7",
   "metadata": {},
   "source": [
    "💡 **Question 7**\n",
    "\n",
    "Given an array of integers `nums` sorted in non-decreasing order, find the starting and ending position of a given `target` value.\n",
    "\n",
    "If `target` is not found in the array, return `[-1, -1]`.\n",
    "\n",
    "You must write an algorithm with `O(log n)` runtime complexity.\n",
    "\n",
    "**Example 1:**\n",
    "    \n",
    "Input: nums = [5,7,7,8,8,10], target = 8\n",
    "Output: [3,4]"
   ]
  },
  {
   "cell_type": "code",
   "execution_count": 27,
   "id": "5493f3d7",
   "metadata": {},
   "outputs": [
    {
     "name": "stdout",
     "output_type": "stream",
     "text": [
      "[3, 4]\n"
     ]
    }
   ],
   "source": [
    "def searchRange(nums, target):\n",
    "        \n",
    "    def binarySearch (nums, target):\n",
    "        if not nums:\n",
    "            return -1\n",
    "        start, end = 0, len(nums) - 1\n",
    "\n",
    "        while start + 1 < end:\n",
    "            mid = (start + end) // 2\n",
    "            if nums[mid] < target:\n",
    "                start = mid\n",
    "            else: \n",
    "                end = mid\n",
    "\n",
    "        if nums[start] == target:\n",
    "            return start\n",
    "\n",
    "        if nums[end] == target:\n",
    "            return end\n",
    "        return -1\n",
    "\n",
    "    pos = binarySearch (nums, target)\n",
    "\n",
    "    if pos != -1:\n",
    "        start = end = pos\n",
    "\n",
    "        while end < len(nums) - 1 and nums[end] == target:\n",
    "            if nums[end + 1] == target:\n",
    "                end += 1\n",
    "            else:\n",
    "                break\n",
    "\n",
    "        return [start, end]\n",
    "    else:\n",
    "        return [-1,-1]\n",
    "    \n",
    "nums = [5,7,7,8,8,10]\n",
    "target = 8    \n",
    "print(searchRange(nums, target))"
   ]
  },
  {
   "cell_type": "markdown",
   "id": "508e0dee",
   "metadata": {},
   "source": [
    "💡 **Question 8**\n",
    "\n",
    "Given two integer arrays `nums1` and `nums2`, return *an array of their intersection*. Each element in the result must appear as many times as it shows in both arrays and you may return the result in **any order**.\n",
    "\n",
    "**Example 1:**\n",
    "\n",
    "Input: nums1 = [1,2,2,1], nums2 = [2,2]\n",
    "Output: [2,2]"
   ]
  },
  {
   "cell_type": "code",
   "execution_count": 28,
   "id": "49fb463b",
   "metadata": {},
   "outputs": [
    {
     "name": "stdout",
     "output_type": "stream",
     "text": [
      "[2, 2]\n"
     ]
    }
   ],
   "source": [
    "def intersect(nums1, nums2):\n",
    "    hashMap,result = {},[]\n",
    "    for num in nums1:hashMap[num] = hashMap.get(num,0)+1\n",
    "\n",
    "    for num in nums2:\n",
    "        if num in hashMap and hashMap[num] != 0:\n",
    "            result.append(num) \n",
    "            hashMap[num] -= 1\n",
    "\n",
    "    return result \n",
    "\n",
    "nums1 = [1,2,2,1]\n",
    "nums2 = [2,2]\n",
    "print(intersect(nums1, nums2))"
   ]
  },
  {
   "cell_type": "code",
   "execution_count": null,
   "id": "db0aa21d",
   "metadata": {},
   "outputs": [],
   "source": []
  }
 ],
 "metadata": {
  "kernelspec": {
   "display_name": "Python 3 (ipykernel)",
   "language": "python",
   "name": "python3"
  },
  "language_info": {
   "codemirror_mode": {
    "name": "ipython",
    "version": 3
   },
   "file_extension": ".py",
   "mimetype": "text/x-python",
   "name": "python",
   "nbconvert_exporter": "python",
   "pygments_lexer": "ipython3",
   "version": "3.7.4"
  }
 },
 "nbformat": 4,
 "nbformat_minor": 5
}
