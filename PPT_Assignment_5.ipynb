{
 "cells": [
  {
   "cell_type": "markdown",
   "id": "540d2ebc",
   "metadata": {},
   "source": [
    "## 💡Question 1\n",
    "\n",
    "Convert 1D Array Into 2D Array\n",
    "\n",
    "You are given a **0-indexed** 1-dimensional (1D) integer array original, and two integers, m and n. You are tasked with creating a 2-dimensional (2D) array with  m rows and n columns using **all** the elements from original.\n",
    "\n",
    "The elements from indices 0 to n - 1 (**inclusive**) of original should form the first row of the constructed 2D array, the elements from indices n to 2 * n - 1 (**inclusive**) should form the second row of the constructed 2D array, and so on.\n",
    "\n",
    "Return *an* m x n *2D array constructed according to the above procedure, or an empty 2D array if it is impossible*."
   ]
  },
  {
   "cell_type": "code",
   "execution_count": 34,
   "id": "06822fb9",
   "metadata": {},
   "outputs": [
    {
     "name": "stdout",
     "output_type": "stream",
     "text": [
      "[[1, 2], [3, 4]]\n"
     ]
    }
   ],
   "source": [
    "from typing import List\n",
    "\n",
    "def ConvertTo2D(original: List[int], m: int, n: int) -> List[List[int]]:\n",
    "    rows = m\n",
    "    cols = n\n",
    "    \n",
    "    # Rows and columns should be positive \n",
    "    if m<=0 or n<=0:\n",
    "        raise Exception(\"rows=(m) and columns=(n) has to be positive\")\n",
    "    \n",
    "    # Initializing an empty Array\n",
    "    Array = [[None for _ in range(cols)] for _ in range(rows)]\n",
    "\n",
    "    # Populate the new 2D array with the values from the 1D array.\n",
    "    for row in range(rows):\n",
    "        for col in range(cols):\n",
    "            Array[row][col] = original[row*cols + col]\n",
    "\n",
    "    return Array\n",
    "\n",
    "\n",
    "if __name__ == \"__main__\":\n",
    "    original, m, n = [1,2,3,4], 2, 2\n",
    "    ans = ConvertTo2D(original, m, n)\n",
    "    print(ans)"
   ]
  },
  {
   "cell_type": "markdown",
   "id": "4a6a36d7",
   "metadata": {},
   "source": [
    "## **Question 2**\n",
    "\n",
    "You have n coins and you want to build a staircase with these coins. The staircase consists of k rows where the ith row has exactly i coins. The last row of the staircase **may be** incomplete.\n",
    "\n",
    "Given the integer n, return *the number of **complete rows** of the staircase you will build*."
   ]
  },
  {
   "cell_type": "code",
   "execution_count": 13,
   "id": "c1e4058b",
   "metadata": {},
   "outputs": [
    {
     "name": "stdout",
     "output_type": "stream",
     "text": [
      "2\n"
     ]
    }
   ],
   "source": [
    "def staircase(n: int) -> int:\n",
    "    count = 0\n",
    "    for i in range(1, (n//2 + 2)):\n",
    "        n -= i\n",
    "        if n >= 0:\n",
    "            count += 1\n",
    "    return count\n",
    "\n",
    "        \n",
    "if __name__ == \"__main__\":\n",
    "    count = staircase(n=5)\n",
    "    print(count)"
   ]
  },
  {
   "cell_type": "markdown",
   "id": "a8bc08e0",
   "metadata": {},
   "source": [
    "## **Question 3**\n",
    "\n",
    "Given an integer array nums sorted in **non-decreasing** order, return *an array of **the squares of each number** sorted in non-decreasing order*."
   ]
  },
  {
   "cell_type": "code",
   "execution_count": 15,
   "id": "deade67e",
   "metadata": {},
   "outputs": [
    {
     "name": "stdout",
     "output_type": "stream",
     "text": [
      "[0, 1, 9, 16, 100]\n"
     ]
    }
   ],
   "source": [
    "from typing import List\n",
    "\n",
    "def squaredArray(nums: List[int]) -> List[int]:\n",
    "    if len(nums) == 0:\n",
    "        return []\n",
    "    \n",
    "    squares = [i**2 for i in nums]\n",
    "    squares.sort()\n",
    "    return squares\n",
    "\n",
    "\n",
    "if __name__ == \"__main__\":\n",
    "    nums = [-4,-1,0,3,10]\n",
    "    print(squaredArray(nums))"
   ]
  },
  {
   "cell_type": "markdown",
   "id": "9cf7d069",
   "metadata": {},
   "source": [
    "## **Question 4**\n",
    "\n",
    "Given two **0-indexed** integer arrays nums1 and nums2, return *a list* answer *of size* 2 *where:*\n",
    "\n",
    "- answer[0] *is a list of all **distinct** integers in* nums1 *which are **not** present in* nums2*.*\n",
    "- answer[1] *is a list of all **distinct** integers in* nums2 *which are **not** present in* nums1.\n",
    "\n",
    "**Note** that the integers in the lists may be returned in **any** order."
   ]
  },
  {
   "cell_type": "code",
   "execution_count": 41,
   "id": "b784699e",
   "metadata": {},
   "outputs": [
    {
     "name": "stdout",
     "output_type": "stream",
     "text": [
      "[[1, 3], [4, 6]]\n"
     ]
    }
   ],
   "source": [
    "from typing import List\n",
    "\n",
    "def distinctInteger(nums1: List[int], nums2: List[int]) -> List[List[int]]:\n",
    "    \n",
    "    for i in nums1:\n",
    "        if i in nums2:\n",
    "            nums1.remove(i)\n",
    "            nums2.remove(i)\n",
    "            \n",
    "    return [nums1, nums2]\n",
    "\n",
    "\n",
    "if __name__ == \"__main__\":\n",
    "    nums1 = [1,2,3]\n",
    "    nums2 = [2,4,6]\n",
    "    print(distinctInteger(nums1, nums2))"
   ]
  },
  {
   "cell_type": "markdown",
   "id": "21624e6a",
   "metadata": {},
   "source": [
    "## 💡 **Question 5**\n",
    "\n",
    "Given two integer arrays arr1 and arr2, and the integer d, *return the distance value between the two arrays*.\n",
    "\n",
    "The distance value is defined as the number of elements arr1[i] such that there is not any element arr2[j] where |arr1[i]-arr2[j]| <= d."
   ]
  },
  {
   "cell_type": "code",
   "execution_count": 70,
   "id": "288ff2b4",
   "metadata": {},
   "outputs": [
    {
     "name": "stdout",
     "output_type": "stream",
     "text": [
      "2\n"
     ]
    }
   ],
   "source": [
    "from typing import List\n",
    "\n",
    "def distanceValue(arr1: List[int], arr2: List[int], d:int) -> int:\n",
    "    return sum(all(abs(i - j) > d for j in arr2) for i in arr1)\n",
    "\n",
    "\n",
    "if __name__ == \"__main__\":\n",
    "    arr1, arr2, d = [4,5,8], [10,9,1,8], 2\n",
    "    ans = distanceValue(arr1, arr2, d)\n",
    "    print(ans)\n",
    "        "
   ]
  },
  {
   "cell_type": "markdown",
   "id": "9adaf87a",
   "metadata": {},
   "source": [
    "## 💡 **Question 6**\n",
    "\n",
    "Given an integer array nums of length n where all the integers of nums are in the range [1, n] and each integer appears **once** or **twice**, return *an array of all the integers that appears **twice***.\n",
    "\n",
    "You must write an algorithm that runs in O(n) time and uses only constant extra space."
   ]
  },
  {
   "cell_type": "code",
   "execution_count": 72,
   "id": "8d8c4769",
   "metadata": {},
   "outputs": [
    {
     "name": "stdout",
     "output_type": "stream",
     "text": [
      "[2, 3]\n"
     ]
    }
   ],
   "source": [
    "def findDuplicates(nums):\n",
    "    result = []\n",
    "    for i in range(len(nums)):\n",
    "        index = abs(nums[i]) - 1\n",
    "        if nums[index] < 0:\n",
    "            result.append(index + 1)\n",
    "        nums[index] = -nums[index]\n",
    "    return result\n",
    "\n",
    "\n",
    "if __name__ == \"__main__\":\n",
    "    nums = [4,3,2,7,8,2,3,1]\n",
    "    print(findDuplicates(nums))\n"
   ]
  },
  {
   "cell_type": "markdown",
   "id": "b15c83a1",
   "metadata": {},
   "source": [
    "## 💡 **Question 7**\n",
    "\n",
    "Suppose an array of length n sorted in ascending order is **rotated** between 1 and n times. For example, the array nums = [0,1,2,4,5,6,7] might become:\n",
    "\n",
    "- [4,5,6,7,0,1,2] if it was rotated 4 times.\n",
    "- [0,1,2,4,5,6,7] if it was rotated 7 times.\n",
    "\n",
    "Notice that **rotating** an array [a[0], a[1], a[2], ..., a[n-1]] 1 time results in the array [a[n-1], a[0], a[1], a[2], ..., a[n-2]].\n",
    "\n",
    "Given the sorted rotated array nums of **unique** elements, return *the minimum element of this array*.\n",
    "\n",
    "You must write an algorithm that runs in O(log n) time."
   ]
  },
  {
   "cell_type": "code",
   "execution_count": 21,
   "id": "45034079",
   "metadata": {},
   "outputs": [
    {
     "name": "stdout",
     "output_type": "stream",
     "text": [
      "1\n"
     ]
    }
   ],
   "source": [
    "from typing import List\n",
    "\n",
    "def minElementInRotatedArray(nums: List[int]) -> int:\n",
    "    if len(nums) == 0:\n",
    "        return \"Empty Array\"\n",
    "    \n",
    "    elif len(nums) == 1:\n",
    "        return nums[0]\n",
    "    \n",
    "    left = 0\n",
    "    right = len(nums) - 1\n",
    "    \n",
    "    while left < right:\n",
    "        mid = (left + right) // 2\n",
    "        if nums[mid] < nums[right]:\n",
    "            right = mid\n",
    "        else:\n",
    "            left = mid + 1\n",
    "    return nums[left]\n",
    "\n",
    "\n",
    "if __name__ == \"__main__\":\n",
    "    nums = [3,1,2]\n",
    "    print(minElementInRotatedArray(nums))"
   ]
  },
  {
   "cell_type": "markdown",
   "id": "cd07eb24",
   "metadata": {},
   "source": [
    "## 💡 **Question 8**\n",
    "\n",
    "An integer array original is transformed into a **doubled** array changed by appending **twice the value** of every element in original, and then randomly **shuffling** the resulting array.\n",
    "\n",
    "Given an array changed, return original *if* changed *is a **doubled** array. If* changed *is not a **doubled** array, return an empty array. The elements in* original *may be returned in **any** order*."
   ]
  },
  {
   "cell_type": "markdown",
   "id": "0525a944",
   "metadata": {},
   "source": [
    "**Algorithm: OriginalArray_1()**\n",
    "- Sort the input array.\n",
    "- Create a hash map to store the frequency of each element of the input array and empty list (result list) to input elements of original array.\n",
    "- Traverse the sorted input array and create a dictionary with key=current_element & value=frequency of current_element.\n",
    "- Again traverse the sorted array and for each element in the array:\n",
    "    - If the frequency of element == 0 in the dict, then skip to next element in the array.\n",
    "    - Otherwise, decrease the frequency of element by 1 and find the 2 x element in the dict keys.\n",
    "        - Append the element in the result list\n",
    "        - decrease the frequecy of 2 x element by 1.\n",
    "- Return the result array (original array)"
   ]
  },
  {
   "cell_type": "code",
   "execution_count": 109,
   "id": "de49d1b0",
   "metadata": {},
   "outputs": [
    {
     "name": "stdout",
     "output_type": "stream",
     "text": [
      "[1, 3, 4]\n"
     ]
    }
   ],
   "source": [
    "def OriginalArray_1(changed: List[int]) -> List[int]:\n",
    "    \n",
    "    # Checking if length of 'changed' array is even \n",
    "    if len(changed) % 2 != 0:\n",
    "        return []\n",
    "    \n",
    "    changed.sort()\n",
    "    \n",
    "    freq, res = dict(), list()\n",
    "    \n",
    "    # Adding the key=current_element & value=frequency of current_element in the dictionary/hashmap \n",
    "    for num in changed:\n",
    "        freq[num] = freq.get(num, 0) + 1\n",
    "        \n",
    "    #  Checking for key with frequency>1, then looking for the key with twice the value\n",
    "    for num in changed:\n",
    "        if freq[num] == 0:\n",
    "            continue\n",
    "        freq[num] -= 1\n",
    "        if freq.get(num*2, 0) > 0:\n",
    "            freq[num*2] -= 1\n",
    "            res.append(num)\n",
    "        else:\n",
    "            return []\n",
    "    return res\n",
    "\n",
    "\n",
    "if __name__ == \"__main__\":\n",
    "    nums = [2,1,3,6,8,4]\n",
    "    result = OriginalArray_1(nums)\n",
    "    print(result)"
   ]
  },
  {
   "cell_type": "markdown",
   "id": "256a95a3",
   "metadata": {},
   "source": [
    "**Algorithm : originalArray_2()**\n",
    "\n",
    "- Sort the input array.\n",
    "- Create an empty list to store original array elements.\n",
    "- Traverse the sorted input array and for each element:\n",
    "    - If twice the value of current element is present in sorted input array, append the current element in the list.\n",
    "    - Search for the index of twice the value of current element and set it to its negative value.\n",
    "- Return list"
   ]
  },
  {
   "cell_type": "code",
   "execution_count": 111,
   "id": "71e0ce42",
   "metadata": {},
   "outputs": [
    {
     "name": "stdout",
     "output_type": "stream",
     "text": [
      "[1, 3, 4]\n"
     ]
    }
   ],
   "source": [
    "from typing import List\n",
    "\n",
    "def originalArray_2(ar: List[int]) -> List[int]:\n",
    "    ar.sort()\n",
    "    result = list()\n",
    "    for i in range(len(ar)):\n",
    "        val = 2 * ar[i]\n",
    "        if val in ar:\n",
    "            result.append(ar[i])\n",
    "            k = search(ar, val)\n",
    "            ar[k] = - ar[k]\n",
    "    return result\n",
    "        \n",
    "    \n",
    "def search(ar: List[int], key: int) -> int:\n",
    "    left,right=0,len(ar)-1   \n",
    "    while left <= right:\n",
    "        mid = (left + right) // 2\n",
    "        if key == ar[mid]:\n",
    "            return mid\n",
    "        elif key < ar[mid]:\n",
    "            right = mid-1\n",
    "        elif key > ar[mid]:\n",
    "            left = mid+1    \n",
    "    return 0\n",
    "\n",
    "\n",
    "if __name__ == \"__main__\":\n",
    "    nums = [2,1,3,6,8,4]\n",
    "    result = originalArray(nums)\n",
    "    print(result)"
   ]
  }
 ],
 "metadata": {
  "kernelspec": {
   "display_name": "Python 3 (ipykernel)",
   "language": "python",
   "name": "python3"
  },
  "language_info": {
   "codemirror_mode": {
    "name": "ipython",
    "version": 3
   },
   "file_extension": ".py",
   "mimetype": "text/x-python",
   "name": "python",
   "nbconvert_exporter": "python",
   "pygments_lexer": "ipython3",
   "version": "3.9.12"
  }
 },
 "nbformat": 4,
 "nbformat_minor": 5
}
