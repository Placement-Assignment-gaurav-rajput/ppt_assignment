{
 "cells": [
  {
   "cell_type": "markdown",
   "id": "3d30ac62",
   "metadata": {},
   "source": [
    "## Question 1\n",
    "\n",
    "Given an integer `n`, return *`true` if it is a power of two. Otherwise, return `false`*.\n",
    "\n",
    "An integer `n` is a power of two, if there exists an integer `x` such that `n == 2x`."
   ]
  },
  {
   "cell_type": "code",
   "execution_count": 1,
   "id": "ed866dfe",
   "metadata": {},
   "outputs": [
    {
     "name": "stdout",
     "output_type": "stream",
     "text": [
      "True\n"
     ]
    }
   ],
   "source": [
    "def is_power_of_two (n: int) -> bool:\n",
    "    return n > 0 and (n & (n - 1)) == 0\n",
    "\n",
    "\n",
    "if __name__ == \"__main__\":\n",
    "    print(is_power_of_two(32))"
   ]
  },
  {
   "cell_type": "markdown",
   "id": "2d348cea",
   "metadata": {},
   "source": [
    "## Question 2\n",
    "\n",
    "Given a number n, find the sum of the first natural numbers."
   ]
  },
  {
   "cell_type": "code",
   "execution_count": 5,
   "id": "b6aa2700",
   "metadata": {},
   "outputs": [
    {
     "name": "stdout",
     "output_type": "stream",
     "text": [
      "3\n"
     ]
    }
   ],
   "source": [
    "def sum_n(n: int) -> int:\n",
    "    if n < 0:\n",
    "        return \"Please enter positive number\"\n",
    "    if n==0:\n",
    "        return 0\n",
    "        \n",
    "    return n + sum_n(n-1)\n",
    "\n",
    "\n",
    "if __name__ == \"__main__\":\n",
    "    print(sum_n(2))"
   ]
  },
  {
   "cell_type": "markdown",
   "id": "c9ba919e",
   "metadata": {},
   "source": [
    "## Question 3\n",
    "\n",
    "Given a positive integer, N. Find the factorial of N"
   ]
  },
  {
   "cell_type": "code",
   "execution_count": 8,
   "id": "b9abe729",
   "metadata": {},
   "outputs": [
    {
     "name": "stdout",
     "output_type": "stream",
     "text": [
      "6\n"
     ]
    }
   ],
   "source": [
    "def factorial(n: int) -> int:\n",
    "    if n < 0:\n",
    "        return \"Please input positive number\"\n",
    "    if n == 1:\n",
    "        return 1\n",
    "    return n*factorial(n-1)\n",
    "\n",
    "\n",
    "if __name__ == \"__main__\":\n",
    "    print(factorial(3))"
   ]
  },
  {
   "cell_type": "markdown",
   "id": "733f47d6",
   "metadata": {},
   "source": [
    "## Question 4\n",
    "\n",
    "Given a number N and a power P, the task is to find the exponent of this number raised to the given power, i.e. N^P."
   ]
  },
  {
   "cell_type": "code",
   "execution_count": 12,
   "id": "3eb78062",
   "metadata": {},
   "outputs": [
    {
     "name": "stdout",
     "output_type": "stream",
     "text": [
      "125\n"
     ]
    }
   ],
   "source": [
    "def findExponent(n: int, p: int) -> int:\n",
    "    if p == 0:\n",
    "        return 1\n",
    "    elif p == 1:\n",
    "        return n\n",
    "    else: return n*findExponent(n, p-1)\n",
    "\n",
    "\n",
    "if __name__ == \"__main__\":\n",
    "    print(findExponent(5, 3))"
   ]
  },
  {
   "cell_type": "markdown",
   "id": "0a9cd467",
   "metadata": {},
   "source": [
    "Question 5\n",
    "\n",
    "Given an array of integers **arr**, the task is to find maximum element of that array using recursion."
   ]
  },
  {
   "cell_type": "code",
   "execution_count": 13,
   "id": "ce5d6ec7",
   "metadata": {},
   "outputs": [
    {
     "name": "stdout",
     "output_type": "stream",
     "text": [
      "8\n"
     ]
    }
   ],
   "source": [
    "from typing import List\n",
    "\n",
    "def maxElement(arr: List[int]) -> int:\n",
    "    if len(arr) == 1:\n",
    "        return ar[0]\n",
    "    else:\n",
    "        return max(arr[-1], maxElement(arr[:-1]))\n",
    "    \n",
    "    \n",
    "if __name__ == \"__main__\":\n",
    "    ar = [1, 4, 3, -5, -4, 8, 6]\n",
    "    print(maxElement(ar))"
   ]
  },
  {
   "cell_type": "markdown",
   "id": "4c639d1f",
   "metadata": {},
   "source": [
    "## Question 6\n",
    "Given first term (a), common difference (d) and a integer N of the Arithmetic Progression series, the task is to find Nth term of the series."
   ]
  },
  {
   "cell_type": "code",
   "execution_count": 17,
   "id": "13606efc",
   "metadata": {},
   "outputs": [
    {
     "name": "stdout",
     "output_type": "stream",
     "text": [
      "6\n"
     ]
    }
   ],
   "source": [
    "def Nth_term(a, d, N):\n",
    "    if N == 1:\n",
    "        return a\n",
    "    else:\n",
    "        return d + Nth_term(a, d, N-1)\n",
    "\n",
    "\n",
    "if __name__ == \"__main__\":\n",
    "    print(Nth_term(2, 1, 5))"
   ]
  },
  {
   "cell_type": "markdown",
   "id": "78b9173d",
   "metadata": {},
   "source": [
    "## Question 7\n",
    "\n",
    "Given a string S, the task is to write a program to print all permutations of a given string."
   ]
  },
  {
   "cell_type": "code",
   "execution_count": 5,
   "id": "f3e806e0",
   "metadata": {},
   "outputs": [
    {
     "name": "stdout",
     "output_type": "stream",
     "text": [
      "ABC\n",
      "ACB\n",
      "BAC\n",
      "BCA\n",
      "CBA\n",
      "CAB\n"
     ]
    }
   ],
   "source": [
    "def permute(arr, i, length):\n",
    "    if i == length:\n",
    "        print(''.join(arr))\n",
    "    else:\n",
    "        for j in range(i, length):\n",
    "            # swap\n",
    "            arr[i], arr[j] = arr[j], arr[i]\n",
    "            permute(arr, i+1, length)\n",
    "            arr[i], arr[j] = arr[j], arr[i]\n",
    "\n",
    "string = \"ABC\"\n",
    "n = len(string)\n",
    "data = list(string)\n",
    "permute(data, 0, n)"
   ]
  },
  {
   "cell_type": "code",
   "execution_count": null,
   "id": "e3ea01d4",
   "metadata": {},
   "outputs": [],
   "source": []
  }
 ],
 "metadata": {
  "kernelspec": {
   "display_name": "Python 3 (ipykernel)",
   "language": "python",
   "name": "python3"
  },
  "language_info": {
   "codemirror_mode": {
    "name": "ipython",
    "version": 3
   },
   "file_extension": ".py",
   "mimetype": "text/x-python",
   "name": "python",
   "nbconvert_exporter": "python",
   "pygments_lexer": "ipython3",
   "version": "3.9.12"
  }
 },
 "nbformat": 4,
 "nbformat_minor": 5
}
