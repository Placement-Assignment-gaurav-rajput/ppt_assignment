{
 "cells": [
  {
   "cell_type": "markdown",
   "id": "44c2676c",
   "metadata": {},
   "source": [
    "## Question 1\n",
    "Given an array of integers nums and an integer target, return indices of the two numbers such that they add up to target.\n",
    "You may assume that each input would have exactly one solution, and you may not use the same element twice.\n",
    "You can return the answer in any order.\n",
    "\n",
    "**Example:**\n",
    "Input: nums = [2,7,11,15], target = 9\n",
    "Output0 [0,1]\n",
    "\n",
    "**Explanation:** Because nums[0] + nums[1] == 9, we return [0, 1]"
   ]
  },
  {
   "cell_type": "code",
   "execution_count": 1,
   "id": "c9d42aad",
   "metadata": {},
   "outputs": [],
   "source": [
    "def question_1(nums, target):\n",
    "    _dict = dict()\n",
    "    for idx, val in enumerate(nums):\n",
    "        if target-val in _dict.keys():\n",
    "            return [_dict[target-val], idx]\n",
    "        _dict[val] = idx"
   ]
  },
  {
   "cell_type": "code",
   "execution_count": 2,
   "id": "25d1d5af",
   "metadata": {},
   "outputs": [
    {
     "data": {
      "text/plain": [
       "[0, 4]"
      ]
     },
     "execution_count": 2,
     "metadata": {},
     "output_type": "execute_result"
    }
   ],
   "source": [
    "nums = [3,5,11,15,6,7]\n",
    "question_1(nums, 9)"
   ]
  },
  {
   "cell_type": "markdown",
   "id": "b62d2ea8",
   "metadata": {},
   "source": [
    "## Question 2\n",
    "Given an integer array nums and an integer val, remove all occurrences of val in nums in-place. The order of the elements may be changed. Then return the number of elements in nums which are not equal to val.\n",
    "\n",
    "Consider the number of elements in nums which are not equal to val be k, to get accepted, you need to do the following things:\n",
    "- Change the array nums such that the first k elements of nums contain the elements which are not equal to val. The remaining elements of nums are not important as well as the size of nums.\n",
    "- Return k.\n",
    "\n",
    "**Example :**\n",
    "Input: nums = [3,2,2,3], val = 3\n",
    "Output: 2, nums = [2,2,_*,_*]\n",
    "\n",
    "**Explanation:** Your function should return k = 2, with the first two elements of nums being 2. It does not matter what you leave beyond the returned k (hence they are underscores)[\n"
   ]
  },
  {
   "cell_type": "code",
   "execution_count": 3,
   "id": "62391b02",
   "metadata": {},
   "outputs": [],
   "source": [
    "def delete_element(nums:list, val:int) -> int:\n",
    "    for ele in nums:\n",
    "        if val==ele:\n",
    "            nums.remove(ele)\n",
    "    return len(nums)"
   ]
  },
  {
   "cell_type": "code",
   "execution_count": 4,
   "id": "f51e4cd2",
   "metadata": {},
   "outputs": [
    {
     "name": "stdout",
     "output_type": "stream",
     "text": [
      "7\n"
     ]
    }
   ],
   "source": [
    "num1 = [3,5,11,5,6,7,5]\n",
    "print(len(num1))"
   ]
  },
  {
   "cell_type": "code",
   "execution_count": 5,
   "id": "1279a41d",
   "metadata": {},
   "outputs": [
    {
     "data": {
      "text/plain": [
       "4"
      ]
     },
     "execution_count": 5,
     "metadata": {},
     "output_type": "execute_result"
    }
   ],
   "source": [
    "delete_element(num1, 5)"
   ]
  },
  {
   "cell_type": "code",
   "execution_count": 6,
   "id": "386734f4",
   "metadata": {},
   "outputs": [],
   "source": [
    "def delete_element_another_way(nums:list, val: int) -> int:\n",
    "    while val in nums:\n",
    "        nums.remove(val)\n",
    "    return (len(nums))"
   ]
  },
  {
   "cell_type": "markdown",
   "id": "1634b53d",
   "metadata": {},
   "source": [
    "## Question 3\n",
    "Given a sorted array of distinct integers and a target value, return the index if the target is found. If not, return the index where it would be if it were inserted in order.\n",
    "\n",
    "You must write an algorithm with O(log n) runtime complexity.\n",
    "\n",
    "**Example 1:**\n",
    "Input: nums = [1,3,5,6], target = 5\n",
    "\n",
    "Output: 2"
   ]
  },
  {
   "cell_type": "code",
   "execution_count": 7,
   "id": "56143504",
   "metadata": {},
   "outputs": [],
   "source": [
    "# Question 3 : Applying Binary search\n",
    "\n",
    "def binary_search(nums: list, target: int):\n",
    "    if len(nums) == 0:\n",
    "        return -1\n",
    "    \n",
    "    # Initializing left index\n",
    "    left = 0\n",
    "    \n",
    "    # Initializing right index\n",
    "    right = len(nums) - 1\n",
    "    \n",
    "    while left <= right:\n",
    "        mid = (left + right) // 2\n",
    "        if target == nums[mid]:\n",
    "            return mid\n",
    "        elif target < nums[mid]:\n",
    "            right = mid - 1\n",
    "        elif target > nums[mid]:\n",
    "            left = mid + 1\n",
    "    return left"
   ]
  },
  {
   "cell_type": "code",
   "execution_count": 8,
   "id": "f993ad06",
   "metadata": {},
   "outputs": [
    {
     "name": "stdout",
     "output_type": "stream",
     "text": [
      "Result:  4\n"
     ]
    }
   ],
   "source": [
    "A = [15,21,47,84,96]\n",
    "found = binary_search(A, 95)\n",
    "print('Result: ',found)"
   ]
  },
  {
   "cell_type": "markdown",
   "id": "3c24a70d",
   "metadata": {},
   "source": [
    "## Question 4\n",
    "You are given a large integer represented as an integer array digits, where each digits[i] is the ith digit of the integer. The digits are ordered from most significant to least significant in left-to-right order. The large integer does not contain any leading 0's.\n",
    "\n",
    "Increment the large integer by one and return the resulting array of digits.\n",
    "\n",
    "**Example 1:**\n",
    "Input: digits = [1,2,3]\n",
    "Output: [1,2,4]\n",
    "\n",
    "**Explanation:** The array represents the integer 123.\n",
    "Incrementing by one gives 123 + 1 = 124.\n",
    "Thus, the result should be [1,2,4]."
   ]
  },
  {
   "cell_type": "code",
   "execution_count": 9,
   "id": "bd315f7f",
   "metadata": {},
   "outputs": [],
   "source": [
    "def large_integer(arr: list) -> list:\n",
    "    if len(arr)==0:\n",
    "        return None\n",
    "    \n",
    "    arr[-1] += 1\n",
    "    return arr"
   ]
  },
  {
   "cell_type": "code",
   "execution_count": 10,
   "id": "bb889885",
   "metadata": {},
   "outputs": [
    {
     "data": {
      "text/plain": [
       "[1, 2, 4]"
      ]
     },
     "execution_count": 10,
     "metadata": {},
     "output_type": "execute_result"
    }
   ],
   "source": [
    "large_integer([1,2,3])"
   ]
  },
  {
   "cell_type": "markdown",
   "id": "ab1e4f9d",
   "metadata": {},
   "source": [
    "## Question 5\n",
    "You are given two integer arrays nums1 and nums2, sorted in non-decreasing order, and two integers m and n, representing the number of elements in nums1 and nums2 respectively.\n",
    "\n",
    "Merge nums1 and nums2 into a single array sorted in non-decreasing order.\n",
    "\n",
    "The final sorted array should not be returned by the function, but instead be stored inside the array nums1. To accommodate this, nums1 has a length of m + n, where the first m elements denote the elements that should be merged, and the last n elements are set to 0 and should be ignored. nums2 has a length of n.\n",
    "\n",
    "**Example 1:**\n",
    "Input: nums1 = [1,2,3,0,0,0], m = 3, nums2 = [2,5,6], n = 3\n",
    "Output: [1,2,2,3,5,6]"
   ]
  },
  {
   "cell_type": "code",
   "execution_count": 11,
   "id": "ab3e0f08",
   "metadata": {},
   "outputs": [],
   "source": [
    "def merge_arr(nums1: list, m: int, nums2: list, n: int) -> list:\n",
    "    if len(nums1) > m+n:\n",
    "        return -1\n",
    "    i = 0\n",
    "    for idx in range(len(nums1)):\n",
    "        if nums1[idx] == 0:\n",
    "            nums1[idx] = nums2[i]\n",
    "            i += 1\n",
    "    nums1.sort()"
   ]
  },
  {
   "cell_type": "code",
   "execution_count": 12,
   "id": "4c84316d",
   "metadata": {},
   "outputs": [],
   "source": [
    "nums1 = [1,2,3,0,0,0, 0]\n",
    "nums2 = [2,4,5, 8]"
   ]
  },
  {
   "cell_type": "code",
   "execution_count": 13,
   "id": "a9bcc9b1",
   "metadata": {},
   "outputs": [
    {
     "data": {
      "text/plain": [
       "[1, 2, 3, 0, 0, 0, 0]"
      ]
     },
     "execution_count": 13,
     "metadata": {},
     "output_type": "execute_result"
    }
   ],
   "source": [
    "nums1"
   ]
  },
  {
   "cell_type": "markdown",
   "id": "d37d29af",
   "metadata": {},
   "source": [
    "## Question 6\n",
    "Given an integer array nums, return true if any value appears at least twice in the array, and return false if every element is distinct.\n",
    "\n",
    "**Example 1:**\n",
    "Input: nums = [1,2,3,1]\n",
    "\n",
    "Output: True"
   ]
  },
  {
   "cell_type": "code",
   "execution_count": 14,
   "id": "89f60e86",
   "metadata": {},
   "outputs": [],
   "source": [
    "def distinct_or_not(arr: list)-> bool:\n",
    "    if len(set(arr)) == len(arr):\n",
    "        return False\n",
    "    else:\n",
    "        return True"
   ]
  },
  {
   "cell_type": "code",
   "execution_count": 15,
   "id": "a60ad4b9",
   "metadata": {},
   "outputs": [
    {
     "data": {
      "text/plain": [
       "True"
      ]
     },
     "execution_count": 15,
     "metadata": {},
     "output_type": "execute_result"
    }
   ],
   "source": [
    "distinct_or_not([1,2,3,1])"
   ]
  },
  {
   "cell_type": "markdown",
   "id": "d41a29b9",
   "metadata": {},
   "source": [
    "## Question 7\n",
    "Given an integer array nums, move all 0's to the end of it while maintaining the relative order of the nonzero elements.\n",
    "\n",
    "Note that you must do this in-place without making a copy of the array.\n",
    "\n",
    "**Example 1:**\n",
    "Input: nums = [0,1,0,3,12]\n",
    "Output: [1,3,12,0,0]"
   ]
  },
  {
   "cell_type": "code",
   "execution_count": 16,
   "id": "5eae4ebd",
   "metadata": {},
   "outputs": [],
   "source": [
    "def move_zero(nums: list):\n",
    "    zero_pointer = 0\n",
    "    for i in range(len(nums)):\n",
    "        if nums[i] != 0:\n",
    "            nums[i], nums[zero_pointer] = nums[zero_pointer], nums[i]\n",
    "            zero_pointer += 1\n"
   ]
  },
  {
   "cell_type": "code",
   "execution_count": 18,
   "id": "157a7c0b",
   "metadata": {},
   "outputs": [
    {
     "data": {
      "text/plain": [
       "[1, 3, 12, 0, 0, 0, 0]"
      ]
     },
     "execution_count": 18,
     "metadata": {},
     "output_type": "execute_result"
    }
   ],
   "source": [
    "_list = [0, 0,1,0,3,12, 0]\n",
    "move_zero(_list)\n",
    "_list"
   ]
  },
  {
   "cell_type": "markdown",
   "id": "b14d7b10",
   "metadata": {},
   "source": [
    "## Question 8 \n",
    "You have a set of integers s, which originally contains all the numbers from 1 to n. Unfortunately, due to some error, one of the numbers in s got duplicated to another number in the set, which results in repetition of one number and loss of another number. You are given an integer array nums representing the data status of this set after the error.\n",
    "\n",
    "Find the number that occurs twice and the number that is missing and return them in the form of an array.\n",
    "\n",
    "**Example 1:**\n",
    "Input: nums = [1,2,2,4]\n",
    "Output: [2,3]"
   ]
  },
  {
   "cell_type": "code",
   "execution_count": 22,
   "id": "66aae937",
   "metadata": {},
   "outputs": [],
   "source": [
    "def missing_number(nums: list) -> list:\n",
    "    try:\n",
    "        if len(nums)==0:\n",
    "            return -1\n",
    "        \n",
    "        n = len(nums)\n",
    "        sum_nums = sum([i for i in range(1, n+1)])\n",
    "        sum_set = sum(set(nums))\n",
    "        missing_num = sum_nums - sum_set\n",
    "        return [missing_num-1, missing_num]\n",
    "    except exception as e:\n",
    "        raise exception(e)\n"
   ]
  },
  {
   "cell_type": "code",
   "execution_count": 26,
   "id": "b0bce7cd",
   "metadata": {},
   "outputs": [],
   "source": [
    "nums = [1,2,2,4]"
   ]
  },
  {
   "cell_type": "code",
   "execution_count": 28,
   "id": "ff3808ce",
   "metadata": {},
   "outputs": [
    {
     "data": {
      "text/plain": [
       "[2, 3]"
      ]
     },
     "execution_count": 28,
     "metadata": {},
     "output_type": "execute_result"
    }
   ],
   "source": [
    "missing_number(nums)"
   ]
  },
  {
   "cell_type": "code",
   "execution_count": 32,
   "id": "600d52d0",
   "metadata": {},
   "outputs": [],
   "source": [
    "# it is given that only one of the number got duplicated\n",
    "\n",
    "def missing_num(nums: list) -> list:\n",
    "    \n",
    "    # for any type of error to exist, there must be more than 1 number in the list\n",
    "    if len(nums) < 1:\n",
    "        return -1\n",
    "    \n",
    "    n = len(nums)\n",
    "    set_of_num = set()\n",
    "    \n",
    "    duplicate = 0\n",
    "    \n",
    "    # Loop to check if number is already present in set_of_num\n",
    "    for num in nums:\n",
    "        if num in set_of_num:\n",
    "            duplicate = num\n",
    "            break\n",
    "        else:\n",
    "            set_of_num.add(num)\n",
    "            \n",
    "    return [duplicate, duplicate+1]"
   ]
  },
  {
   "cell_type": "code",
   "execution_count": 33,
   "id": "3ee04662",
   "metadata": {},
   "outputs": [
    {
     "data": {
      "text/plain": [
       "[2, 3]"
      ]
     },
     "execution_count": 33,
     "metadata": {},
     "output_type": "execute_result"
    }
   ],
   "source": [
    "missing_num(nums)"
   ]
  },
  {
   "cell_type": "code",
   "execution_count": null,
   "id": "4e94b5e0",
   "metadata": {},
   "outputs": [],
   "source": []
  }
 ],
 "metadata": {
  "kernelspec": {
   "display_name": "Python 3 (ipykernel)",
   "language": "python",
   "name": "python3"
  },
  "language_info": {
   "codemirror_mode": {
    "name": "ipython",
    "version": 3
   },
   "file_extension": ".py",
   "mimetype": "text/x-python",
   "name": "python",
   "nbconvert_exporter": "python",
   "pygments_lexer": "ipython3",
   "version": "3.9.12"
  }
 },
 "nbformat": 4,
 "nbformat_minor": 5
}
