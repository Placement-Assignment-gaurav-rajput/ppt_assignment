{
 "cells": [
  {
   "cell_type": "markdown",
   "id": "4ffcd8e5",
   "metadata": {},
   "source": [
    "## Question 1\n",
    "Given an integer array nums of length n and an integer target, find three integers in nums such that the sum is closest to the target. Return the sum of the three integers.\n",
    "You may assume that each input would have exactly one solution.\n"
   ]
  },
  {
   "cell_type": "code",
   "execution_count": 1,
   "id": "84d105b8",
   "metadata": {},
   "outputs": [],
   "source": [
    "def Closest( nums: list, target: int) -> int:\n",
    "    nums.sort()\n",
    "    closest_sum = nums[0] + nums[1] + nums[2]\n",
    "    for i in range(len(nums)):\n",
    "        left = i + 1\n",
    "        right = len(nums) - 1\n",
    "        while left < right:\n",
    "            curr_sum = nums[i] + nums[left] + nums[right]\n",
    "            if abs(curr_sum - target) < abs(closest_sum - target):\n",
    "                closest_sum = curr_sum\n",
    "            if curr_sum > target:\n",
    "                right -= 1\n",
    "            else:\n",
    "                left += 1\n",
    "    return closest_sum"
   ]
  },
  {
   "cell_type": "code",
   "execution_count": 4,
   "id": "b871a51b",
   "metadata": {},
   "outputs": [
    {
     "data": {
      "text/plain": [
       "2"
      ]
     },
     "execution_count": 4,
     "metadata": {},
     "output_type": "execute_result"
    }
   ],
   "source": [
    "nums = [-1,2,1,-4]\n",
    "target = 1\n",
    "Closest(nums, target)"
   ]
  },
  {
   "cell_type": "markdown",
   "id": "7559e0e1",
   "metadata": {},
   "source": [
    "## Question 2\n",
    "Given an array nums of n integers, return an array of all the unique quadruplets\n",
    "[nums[a], nums[b], nums[c], nums[d]] such that:\n",
    "\n",
    "           ● 0 <= a, b, c, d < n\n",
    "           ● a, b, c, and d are distinct.\n",
    "           ● nums[a] + nums[b] + nums[c] + nums[d] == target\n",
    "\n",
    "You may return the answer in any order."
   ]
  },
  {
   "cell_type": "code",
   "execution_count": 5,
   "id": "2773c0e6",
   "metadata": {},
   "outputs": [],
   "source": [
    "from typing import List\n",
    "\n",
    "def fourSum(nums: List[int], target: int) -> List[List[int]]:\n",
    "    ans = list()\n",
    "    nums.sort()\n",
    "    \n",
    "    for i in range(len(nums)):    \n",
    "        for j in range(i+1, len(nums)):\n",
    "            left, right = j+1, len(nums)-1\n",
    "            \n",
    "            while left < right:\n",
    "                \n",
    "                num_sum = nums[i] + nums[j] + nums[left] + nums[right]\n",
    "                \n",
    "                sub_arr = [nums[i], nums[j], nums[left], nums[right]]\n",
    "                \n",
    "                if num_sum == target and sub_arr not in ans:\n",
    "                    ans.append(sub_arr)\n",
    "                    right -= 1\n",
    "                    left += 1\n",
    "                    \n",
    "                elif num_sum > target:\n",
    "                    right -= 1\n",
    "                \n",
    "                else:\n",
    "                    left += 1\n",
    "                    \n",
    "    return ans\n"
   ]
  },
  {
   "cell_type": "code",
   "execution_count": 6,
   "id": "c49ffdba",
   "metadata": {},
   "outputs": [
    {
     "data": {
      "text/plain": [
       "[[-2, -1, 1, 2], [-2, 0, 0, 2], [-1, 0, 0, 1]]"
      ]
     },
     "execution_count": 6,
     "metadata": {},
     "output_type": "execute_result"
    }
   ],
   "source": [
    "nums = [1,0,-1,0,-2,2]\n",
    "target = 0\n",
    "fourSum(nums, target)"
   ]
  },
  {
   "cell_type": "code",
   "execution_count": 7,
   "id": "5f658a67",
   "metadata": {},
   "outputs": [
    {
     "data": {
      "text/plain": [
       "[[2, 2, 2, 2]]"
      ]
     },
     "execution_count": 7,
     "metadata": {},
     "output_type": "execute_result"
    }
   ],
   "source": [
    "nums = [2,2,2,2,2]\n",
    "target = 8\n",
    "fourSum(nums, target)"
   ]
  },
  {
   "cell_type": "markdown",
   "id": "8d8fe101",
   "metadata": {},
   "source": [
    "## Question 3\n",
    "lexicographically greater permutation."
   ]
  },
  {
   "cell_type": "code",
   "execution_count": 8,
   "id": "bc45ab8a",
   "metadata": {},
   "outputs": [],
   "source": [
    "from typing import List\n",
    "\n",
    "def permutation(nums: List[int]) -> List[int]:\n",
    "    \n",
    "    if len(set(nums)) == 1:\n",
    "        return nums\n",
    "    \n",
    "    for i in range(len(nums)-1,0,-1):\n",
    "        if nums[i] > nums[i-1]:\n",
    "            nums[i-1], nums[i] = nums[i], nums[i-1]\n",
    "            return nums\n",
    "    return sorted(nums)"
   ]
  },
  {
   "cell_type": "code",
   "execution_count": 9,
   "id": "79312eff",
   "metadata": {},
   "outputs": [
    {
     "name": "stdout",
     "output_type": "stream",
     "text": [
      "[0, 1, 2, 3]\n"
     ]
    }
   ],
   "source": [
    "nums = [3,2,1,0]\n",
    "ans = permutation(nums)\n",
    "print(ans)"
   ]
  },
  {
   "cell_type": "markdown",
   "id": "3fd7c7be",
   "metadata": {},
   "source": [
    "## Question 4\n",
    "Given a sorted array of distinct integers and a target value, return the index if the target is found. If not, return the index where it would be if it were inserted in order.\n",
    "\n",
    "You must write an algorithm with O(log n) runtime complexity."
   ]
  },
  {
   "cell_type": "code",
   "execution_count": 10,
   "id": "3287ff47",
   "metadata": {},
   "outputs": [],
   "source": [
    "def binary_search(nums: list, target: int):\n",
    "    \n",
    "    if len(nums) == 0:\n",
    "        return -1\n",
    "    \n",
    "    # Initializing left index\n",
    "    left = 0\n",
    "    \n",
    "    # Initializing right index\n",
    "    right = len(nums) - 1\n",
    "    \n",
    "    while left <= right:\n",
    "    \n",
    "        mid = (left + right) // 2\n",
    "        \n",
    "        if target == nums[mid]:\n",
    "            return mid\n",
    "        \n",
    "        elif target < nums[mid]:\n",
    "            right = mid - 1\n",
    "        \n",
    "        elif target > nums[mid]:\n",
    "            left = mid + 1\n",
    "    \n",
    "    return left"
   ]
  },
  {
   "cell_type": "code",
   "execution_count": 11,
   "id": "c69bfa16",
   "metadata": {},
   "outputs": [
    {
     "data": {
      "text/plain": [
       "2"
      ]
     },
     "execution_count": 11,
     "metadata": {},
     "output_type": "execute_result"
    }
   ],
   "source": [
    "nums = [1,3,5,6]\n",
    "target = 4\n",
    "binary_search(nums, target)"
   ]
  },
  {
   "cell_type": "markdown",
   "id": "91f46472",
   "metadata": {},
   "source": [
    "## Question 5\n",
    "You are given a large integer represented as an integer array digits, where each digits[i] is the ith digit of the integer. The digits are ordered from most significant to least significant in left-to-right order. The large integer does not contain any leading 0's.\n",
    "\n",
    "Increment the large integer by one and return the resulting array of digits."
   ]
  },
  {
   "cell_type": "code",
   "execution_count": 12,
   "id": "a6aede88",
   "metadata": {},
   "outputs": [],
   "source": [
    "def addOne(nums: List[int]) -> List[int]:\n",
    "    number = int(''.join(map(str, nums))) + 1\n",
    "    return [int(i) for i in str(number)]"
   ]
  },
  {
   "cell_type": "code",
   "execution_count": 13,
   "id": "780047d4",
   "metadata": {},
   "outputs": [
    {
     "data": {
      "text/plain": [
       "[1, 3, 0]"
      ]
     },
     "execution_count": 13,
     "metadata": {},
     "output_type": "execute_result"
    }
   ],
   "source": [
    "addOne([1,2,9])"
   ]
  },
  {
   "cell_type": "markdown",
   "id": "d56a85ad",
   "metadata": {},
   "source": [
    "## Question 6\n",
    "Given a non-empty array of integers nums, every element appears twice except for one. Find that single one.\n",
    "\n",
    "You must implement a solution with a linear runtime complexity and use only\n",
    "constant extra space."
   ]
  },
  {
   "cell_type": "code",
   "execution_count": 14,
   "id": "d247db05",
   "metadata": {},
   "outputs": [],
   "source": [
    "def find_single(nums):\n",
    "\n",
    "    # XOR all the elements in the array.\n",
    "    result = 0\n",
    "    for num in nums:\n",
    "        result ^= num\n",
    "\n",
    "    return result"
   ]
  },
  {
   "cell_type": "code",
   "execution_count": 15,
   "id": "3a7d6954",
   "metadata": {},
   "outputs": [
    {
     "data": {
      "text/plain": [
       "4"
      ]
     },
     "execution_count": 15,
     "metadata": {},
     "output_type": "execute_result"
    }
   ],
   "source": [
    "find_single([2,2,3,3,4])"
   ]
  },
  {
   "cell_type": "markdown",
   "id": "8f088128",
   "metadata": {},
   "source": [
    "## Question 7\n",
    "You are given an inclusive range [lower, upper] and a sorted unique integer array\n",
    "nums, where all elements are within the inclusive range.\n",
    "\n",
    "A number x is considered missing if x is in the range [lower, upper] and x is not in\n",
    "nums.\n",
    "\n",
    "Return the shortest sorted list of ranges that exactly covers all the missing\n",
    "numbers. That is, no element of nums is included in any of the ranges, and each\n",
    "missing number is covered by one of the ranges.\n"
   ]
  },
  {
   "cell_type": "code",
   "execution_count": 16,
   "id": "8464024f",
   "metadata": {},
   "outputs": [],
   "source": [
    "from typing import List\n",
    "\n",
    "def missingRange(nums: List[int], lower: int, upper: int) -> List[List[int]]:\n",
    "    \n",
    "    result = list()\n",
    "    \n",
    "    for i in range(1, len(nums)): \n",
    "        if nums[i]-nums[i-1] != 1:\n",
    "            result.append([nums[i-1]+1, nums[i]-1])\n",
    "            \n",
    "        if i == len(nums)-1 and nums[i]<upper:\n",
    "            result.append([nums[i]+1, upper])\n",
    "    \n",
    "    return result\n",
    "            "
   ]
  },
  {
   "cell_type": "code",
   "execution_count": 17,
   "id": "3938a65d",
   "metadata": {},
   "outputs": [
    {
     "data": {
      "text/plain": [
       "[[2, 2], [4, 49], [51, 74], [76, 99]]"
      ]
     },
     "execution_count": 17,
     "metadata": {},
     "output_type": "execute_result"
    }
   ],
   "source": [
    "nums = [0,1,3,50,75]\n",
    "lower = 0\n",
    "upper = 99\n",
    "missingRange(nums, lower, upper)"
   ]
  },
  {
   "cell_type": "markdown",
   "id": "b91661d6",
   "metadata": {},
   "source": [
    "## Question 8\n",
    "Given an array of meeting time intervals where intervals[i] = [starti, endi],\n",
    "determine if a person could attend all meetings."
   ]
  },
  {
   "cell_type": "code",
   "execution_count": 37,
   "id": "cdec0045",
   "metadata": {},
   "outputs": [],
   "source": [
    "# Case 1: Meeting would be considered attended if the person is present from the start to end in the meeting.\n",
    "\n",
    "def meetingTime(nums: List[List[int]]) -> bool:\n",
    "    \n",
    "    # sorting the time \n",
    "    nums.sort()\n",
    "    \n",
    "    for i in range(1, len(mat)):\n",
    "        # Checking if person is present from start till end time\n",
    "        if (mat[i-1][0] > mat[i][0]) or (mat[i-1][1]>mat[i][1]):\n",
    "            return False\n",
    "    \n",
    "    return True\n",
    "        "
   ]
  },
  {
   "cell_type": "code",
   "execution_count": 38,
   "id": "e639cacd",
   "metadata": {},
   "outputs": [
    {
     "data": {
      "text/plain": [
       "False"
      ]
     },
     "execution_count": 38,
     "metadata": {},
     "output_type": "execute_result"
    }
   ],
   "source": [
    "mat = [[0,30],[5,10],[12,25]]\n",
    "meetingTime(mat)"
   ]
  },
  {
   "cell_type": "code",
   "execution_count": 35,
   "id": "c2e9e138",
   "metadata": {},
   "outputs": [],
   "source": [
    "# Case2: Person has to be in a meeting before its end to be in meeting\n",
    "\n",
    "def meetingTime(nums: List[List[int]]) -> bool:\n",
    "    nums.sort()\n",
    "    \n",
    "    for i in range(1, len(nums)):\n",
    "        \n",
    "        # Checking if end time of current meeting is before the start of next meeting,\n",
    "        if intervals[i][1] < intervals[i + 1][0]:\n",
    "            return False\n",
    "\n",
    "    return True\n"
   ]
  },
  {
   "cell_type": "code",
   "execution_count": 36,
   "id": "fae02ee3",
   "metadata": {},
   "outputs": [
    {
     "name": "stdout",
     "output_type": "stream",
     "text": [
      "[[0, 5], [10, 20], [20, 22]]\n"
     ]
    },
    {
     "data": {
      "text/plain": [
       "False"
      ]
     },
     "execution_count": 36,
     "metadata": {},
     "output_type": "execute_result"
    }
   ],
   "source": [
    "intervals = [[10,20],[0,5],[20,22]]\n",
    "can_attend_all_meetings(intervals)"
   ]
  },
  {
   "cell_type": "code",
   "execution_count": null,
   "id": "0845b4ab",
   "metadata": {},
   "outputs": [],
   "source": []
  }
 ],
 "metadata": {
  "kernelspec": {
   "display_name": "Python 3 (ipykernel)",
   "language": "python",
   "name": "python3"
  },
  "language_info": {
   "codemirror_mode": {
    "name": "ipython",
    "version": 3
   },
   "file_extension": ".py",
   "mimetype": "text/x-python",
   "name": "python",
   "nbconvert_exporter": "python",
   "pygments_lexer": "ipython3",
   "version": "3.9.12"
  }
 },
 "nbformat": 4,
 "nbformat_minor": 5
}
