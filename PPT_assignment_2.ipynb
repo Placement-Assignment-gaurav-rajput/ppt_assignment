{
 "cells": [
  {
   "cell_type": "markdown",
   "id": "4b76ce95",
   "metadata": {},
   "source": [
    "## Answer 1: \n",
    "Given an integer array nums of 2n integers, group these integers into n pairs (a1, b1), (a2, b2),..., (an, bn) such that the sum of min(ai, bi) for all i is maximized. Return the maximized sum.\n",
    "\n",
    "- my logic: if I sort the array (in ascending order) and selected 2nd element from array and added them it's  the max possible required sum."
   ]
  },
  {
   "cell_type": "code",
   "execution_count": 1,
   "id": "3685d33a",
   "metadata": {},
   "outputs": [],
   "source": [
    "def pair_and_maxsum(nums: list) -> int:\n",
    "    nums.sort()\n",
    "    return sum(nums[::2])"
   ]
  },
  {
   "cell_type": "code",
   "execution_count": 2,
   "id": "74037f72",
   "metadata": {},
   "outputs": [
    {
     "data": {
      "text/plain": [
       "4"
      ]
     },
     "execution_count": 2,
     "metadata": {},
     "output_type": "execute_result"
    }
   ],
   "source": [
    "arr = [1,4,3,2]\n",
    "pair_and_maxsum(arr)"
   ]
  },
  {
   "cell_type": "markdown",
   "id": "35875593",
   "metadata": {},
   "source": [
    "## Answer 2:\n",
    "Alice has n candies, where the ith candy is of type candyType[i]. Alice noticed that she started to gain weight, so she visited a doctor. \n",
    "The doctor advised Alice to only eat n / 2 of the candies she has (n is always even). Alice likes her candies very much, and she wants to eat the maximum number of different types of candies while still following the doctor's advice. \n",
    "\n",
    "Given the integer array candyType of length n, return the maximum number of different types of candies she can eat if she only eats n / 2 of them.\n",
    "    "
   ]
  },
  {
   "cell_type": "code",
   "execution_count": 9,
   "id": "05b965fb",
   "metadata": {},
   "outputs": [],
   "source": [
    "def MaxDifferentCandy(candyType: list) -> int:\n",
    "    \n",
    "    # Number of candies Alice is allowed to eat\n",
    "    n = len(candyType)//2\n",
    "    \n",
    "    if len(set(candyType)) <= n:\n",
    "        return len(set(candyType))\n",
    "    return n"
   ]
  },
  {
   "cell_type": "code",
   "execution_count": 10,
   "id": "789780d4",
   "metadata": {},
   "outputs": [
    {
     "data": {
      "text/plain": [
       "2"
      ]
     },
     "execution_count": 10,
     "metadata": {},
     "output_type": "execute_result"
    }
   ],
   "source": [
    "candyType = [1,2,2,3]\n",
    "MaxDifferentCandy(candyType)"
   ]
  },
  {
   "cell_type": "markdown",
   "id": "8883c7f5",
   "metadata": {},
   "source": [
    "## Question 3\n",
    "We define a harmonious array as an array where the difference between its maximum value\n",
    "and its minimum value is exactly 1.\n",
    "\n",
    "Given an integer array nums, return the length of its longest harmonious subsequence\n",
    "among all its possible subsequences.\n",
    "\n",
    "A subsequence of an array is a sequence that can be derived from the array by deleting some or no elements without changing the order of the remaining elements."
   ]
  },
  {
   "cell_type": "markdown",
   "id": "a3b9a2f0",
   "metadata": {},
   "source": [
    "### Algorithm:\n",
    "- Initialise a dictionary/hashmap with key=element and value=element's frequency and another variable result with 0. \n",
    "- Take an element from the list/array and check if it exists in the dictionary; if it exists increase its frequency count by 1 otherwise add it to dictionary with its frequency as 1.\n",
    "- Check for element+1 or element-1 in the dictionary. If element+1 exists, update result = maximum of (result, frequency of element+1); If element-1 exists, update result = maximum of (result, frequency of element-1).\n",
    "- Repeat above two steps until all the elements are traversed in the array/list."
   ]
  },
  {
   "cell_type": "code",
   "execution_count": 33,
   "id": "883ea5c2",
   "metadata": {},
   "outputs": [],
   "source": [
    "# Since here we don't have to return longest subsequence of the array\n",
    "\n",
    "def HarmoniousArray(ar: list) -> int:\n",
    "    result = 0\n",
    "    counts = {}\n",
    "    \n",
    "    for val in ar:\n",
    "        if val in counts:\n",
    "            counts[val] += 1\n",
    "        else:\n",
    "            counts[val] = 1\n",
    "\n",
    "        if val-1 in counts:\n",
    "            result = max(result, counts[val]+counts[val-1])\n",
    "\n",
    "        if val+1 in counts:\n",
    "            result = max(result, counts[val]+counts[val+1])\n",
    "    \n",
    "    return result"
   ]
  },
  {
   "cell_type": "code",
   "execution_count": 34,
   "id": "b509790a",
   "metadata": {},
   "outputs": [
    {
     "data": {
      "text/plain": [
       "5"
      ]
     },
     "execution_count": 34,
     "metadata": {},
     "output_type": "execute_result"
    }
   ],
   "source": [
    "nums = [1,3,2,2,5,2,3,7]\n",
    "HarmoniousArray(nums)"
   ]
  },
  {
   "cell_type": "markdown",
   "id": "c0f206c6",
   "metadata": {},
   "source": [
    "## Question 4\n",
    "You have a long flowerbed in which some of the plots are planted, and some are not. However, flowers cannot be planted in adjacent plots. Given an integer array flowerbed containing 0's and 1's, where 0 means empty and 1 means not empty, and an integer n, return true if n new flowers can be planted in the flowerbed without violating the no-adjacent-flowers rule and false otherwise."
   ]
  },
  {
   "cell_type": "code",
   "execution_count": null,
   "id": "5f6d1a56",
   "metadata": {},
   "outputs": [],
   "source": [
    "# Checking for three consecutive 0's in the array so as to not break no-adjacent-flowers rule, and plot one flower in the middle"
   ]
  },
  {
   "cell_type": "code",
   "execution_count": 50,
   "id": "e1150748",
   "metadata": {},
   "outputs": [],
   "source": [
    "def NoAdjacentFlowers(flowerbed: list, n: int) -> bool:\n",
    "    \n",
    "    counter = 0\n",
    "\n",
    "    for plot in range(len(flowerbed)):\n",
    "        if flowerbed[plot] == 0:\n",
    "            counter += 1\n",
    "        else:\n",
    "            n -= counter//3\n",
    "            counter = 0\n",
    "\n",
    "    return n==0\n",
    "            "
   ]
  },
  {
   "cell_type": "code",
   "execution_count": 51,
   "id": "d48e5099",
   "metadata": {},
   "outputs": [
    {
     "data": {
      "text/plain": [
       "True"
      ]
     },
     "execution_count": 51,
     "metadata": {},
     "output_type": "execute_result"
    }
   ],
   "source": [
    "NoAdjacentFlowers([1,0,0,0,1], 1)"
   ]
  },
  {
   "cell_type": "code",
   "execution_count": 52,
   "id": "b7123fa5",
   "metadata": {},
   "outputs": [
    {
     "data": {
      "text/plain": [
       "False"
      ]
     },
     "execution_count": 52,
     "metadata": {},
     "output_type": "execute_result"
    }
   ],
   "source": [
    "NoAdjacentFlowers([1,0,0,0,1,0,0,0,1], 3)"
   ]
  },
  {
   "cell_type": "code",
   "execution_count": 53,
   "id": "5eeff080",
   "metadata": {},
   "outputs": [
    {
     "data": {
      "text/plain": [
       "False"
      ]
     },
     "execution_count": 53,
     "metadata": {},
     "output_type": "execute_result"
    }
   ],
   "source": [
    "NoAdjacentFlowers([1,0,0,1,0,1,0,0,1], 1)"
   ]
  },
  {
   "cell_type": "code",
   "execution_count": 54,
   "id": "e6caff76",
   "metadata": {},
   "outputs": [
    {
     "data": {
      "text/plain": [
       "True"
      ]
     },
     "execution_count": 54,
     "metadata": {},
     "output_type": "execute_result"
    }
   ],
   "source": [
    "NoAdjacentFlowers([], 0)"
   ]
  },
  {
   "cell_type": "code",
   "execution_count": 55,
   "id": "d280d234",
   "metadata": {},
   "outputs": [
    {
     "data": {
      "text/plain": [
       "False"
      ]
     },
     "execution_count": 55,
     "metadata": {},
     "output_type": "execute_result"
    }
   ],
   "source": [
    "NoAdjacentFlowers([1,0,0,0,1], 2)"
   ]
  },
  {
   "cell_type": "markdown",
   "id": "935eb82e",
   "metadata": {},
   "source": [
    "## Question 5\n",
    "Given an integer array nums, find three numbers whose product is maximum and return the maximum product."
   ]
  },
  {
   "cell_type": "code",
   "execution_count": 69,
   "id": "b32a3d8f",
   "metadata": {},
   "outputs": [],
   "source": [
    "def MaxProduct(nums: list) -> int:\n",
    "    mergesort(nums, 0, len(nums)-1)\n",
    "    return nums[-1]*nums[-2]*nums[-3]\n",
    "    "
   ]
  },
  {
   "cell_type": "code",
   "execution_count": 70,
   "id": "cc338ff7",
   "metadata": {},
   "outputs": [],
   "source": [
    "def mergesort(A, left, right):\n",
    "    if left < right:\n",
    "        mid = (left + right) // 2\n",
    "        mergesort(A, left, mid)\n",
    "        mergesort(A, mid+1, right)\n",
    "        merge(A, left, mid, right)\n",
    "\n",
    "def merge(A, left, mid, right):\n",
    "    i = left\n",
    "    j = mid+1\n",
    "    k = left\n",
    "    B = [0] * (right+1)\n",
    "    while i <= mid and j <= right:\n",
    "        if A[i] < A[j]:\n",
    "            B[k] = A[i]\n",
    "            i = i + 1\n",
    "        else:\n",
    "            B[k] = A[j]\n",
    "            j = j + 1\n",
    "        k = k + 1\n",
    "\n",
    "    while i <= mid:\n",
    "        B[k] = A[i]\n",
    "        i = i + 1\n",
    "        k = k + 1\n",
    "\n",
    "    while j <= right:\n",
    "        B[k] = A[j]\n",
    "        j = j + 1\n",
    "        k = k + 1\n",
    "    for x in range(left,right+1):\n",
    "        A[x] = B[x]"
   ]
  },
  {
   "cell_type": "code",
   "execution_count": 71,
   "id": "e289550d",
   "metadata": {},
   "outputs": [],
   "source": [
    "A = [1,5,2,4,8,9]"
   ]
  },
  {
   "cell_type": "code",
   "execution_count": 72,
   "id": "2adf540d",
   "metadata": {},
   "outputs": [
    {
     "data": {
      "text/plain": [
       "360"
      ]
     },
     "execution_count": 72,
     "metadata": {},
     "output_type": "execute_result"
    }
   ],
   "source": [
    "MaxProduct(A)"
   ]
  },
  {
   "cell_type": "markdown",
   "id": "1620ada1",
   "metadata": {},
   "source": [
    "## Question 6\n",
    "Given an array of integers nums which is sorted in ascending order, and an integer target, write a function to search target in nums. If target exists, then return its index. Otherwise, return -1."
   ]
  },
  {
   "cell_type": "code",
   "execution_count": 78,
   "id": "c9694341",
   "metadata": {},
   "outputs": [],
   "source": [
    "def BinarySearch(nums: list, target: int):\n",
    "    if len(nums) == 0:\n",
    "        return -1\n",
    "    \n",
    "    # Initializing left index\n",
    "    left = 0\n",
    "    \n",
    "    # Initializing right index\n",
    "    right = len(nums)-1\n",
    "    \n",
    "    while left <= right:\n",
    "        mid = (left + right) // 2\n",
    "        if target == nums[mid]:\n",
    "            return mid\n",
    "        elif target < nums[mid]:\n",
    "            right = mid - 1\n",
    "        elif target > nums[mid]:\n",
    "            left = mid + 1\n",
    "    return -1"
   ]
  },
  {
   "cell_type": "code",
   "execution_count": 80,
   "id": "139e1218",
   "metadata": {},
   "outputs": [
    {
     "data": {
      "text/plain": [
       "4"
      ]
     },
     "execution_count": 80,
     "metadata": {},
     "output_type": "execute_result"
    }
   ],
   "source": [
    "BinarySearch([-1,0,3,5,9,12], 9)"
   ]
  },
  {
   "cell_type": "markdown",
   "id": "a16fb6f6",
   "metadata": {},
   "source": [
    "## Question 7\n",
    "An array is monotonic if it is either monotone increasing or monotone decreasing.\n",
    "\n",
    "An array nums is monotone increasing if for all i <= j, nums[i] <= nums[j]. An array nums is monotone decreasing if for all i <= j, nums[i] >= nums[j].\n",
    "\n",
    "Given an integer array nums, return true if the given array is monotonic, or false otherwise.\n"
   ]
  },
  {
   "cell_type": "code",
   "execution_count": 81,
   "id": "9e61bc19",
   "metadata": {},
   "outputs": [],
   "source": [
    "# Note_1: Since i & j refers to the index of nums, therefore i=j automatically implies nums[i]=nums[j] because i and j will \n",
    "#         refer to same index in nums array; we really need to check for < and > conditions here.\n",
    "\n",
    "\n",
    "def MonotonicArray(nums: list) -> bool:\n",
    "    monotone_decreasing = True\n",
    "    monotone_increasing = True\n",
    "    j = 0\n",
    "    for i in range(len(nums)-1):\n",
    "        j+=1\n",
    "        if nums[i] > nums[j]:\n",
    "            monotone_increasing = False\n",
    "        \n",
    "        elif nums[i] < nums[j]:\n",
    "            monotone_decreasing = False\n",
    "            \n",
    "    return monotone_decreasing or monotone_increasing\n",
    "            \n",
    "            "
   ]
  },
  {
   "cell_type": "code",
   "execution_count": 82,
   "id": "6fec54bd",
   "metadata": {},
   "outputs": [
    {
     "data": {
      "text/plain": [
       "True"
      ]
     },
     "execution_count": 82,
     "metadata": {},
     "output_type": "execute_result"
    }
   ],
   "source": [
    "nums = [1,2,2,3]\n",
    "MonotonicArray(nums)"
   ]
  },
  {
   "cell_type": "code",
   "execution_count": 83,
   "id": "1981075a",
   "metadata": {},
   "outputs": [
    {
     "data": {
      "text/plain": [
       "False"
      ]
     },
     "execution_count": 83,
     "metadata": {},
     "output_type": "execute_result"
    }
   ],
   "source": [
    "MonotonicArray([1,2,3,6,5])"
   ]
  },
  {
   "cell_type": "markdown",
   "id": "637822eb",
   "metadata": {},
   "source": [
    "## Question 8\n",
    "You are given an integer array nums and an integer k.\n",
    "\n",
    "In one operation, you can choose any index i where 0 <= i < nums.length and change nums[i] to nums[i] + x where x is an integer from the range [-k, k]. You can apply this operation at most once for each index i.\n",
    "\n",
    "The score of nums is the difference between the maximum and minimum elements in nums.\n",
    "\n",
    "Return the minimum score of nums after applying the mentioned operation at most once for each index in it."
   ]
  },
  {
   "cell_type": "code",
   "execution_count": 149,
   "id": "95f6c12d",
   "metadata": {},
   "outputs": [],
   "source": [
    "\n",
    "def MinScore(nums, k):\n",
    "\n",
    "    # calculating score\n",
    "    score = max(nums) - min(nums)\n",
    "\n",
    "    if score>2*k:\n",
    "        return score-2*k\n",
    "    return 0"
   ]
  },
  {
   "cell_type": "code",
   "execution_count": 150,
   "id": "418d2d69",
   "metadata": {},
   "outputs": [
    {
     "data": {
      "text/plain": [
       "0"
      ]
     },
     "execution_count": 150,
     "metadata": {},
     "output_type": "execute_result"
    }
   ],
   "source": [
    "MinScore([1,3,6], 3)"
   ]
  },
  {
   "cell_type": "code",
   "execution_count": 151,
   "id": "4b294abb",
   "metadata": {},
   "outputs": [
    {
     "data": {
      "text/plain": [
       "6"
      ]
     },
     "execution_count": 151,
     "metadata": {},
     "output_type": "execute_result"
    }
   ],
   "source": [
    "MinScore([0, 10], 2)"
   ]
  },
  {
   "cell_type": "code",
   "execution_count": null,
   "id": "c3f5726d",
   "metadata": {},
   "outputs": [],
   "source": []
  },
  {
   "cell_type": "code",
   "execution_count": null,
   "id": "5490126d",
   "metadata": {},
   "outputs": [],
   "source": []
  }
 ],
 "metadata": {
  "kernelspec": {
   "display_name": "Python 3 (ipykernel)",
   "language": "python",
   "name": "python3"
  },
  "language_info": {
   "codemirror_mode": {
    "name": "ipython",
    "version": 3
   },
   "file_extension": ".py",
   "mimetype": "text/x-python",
   "name": "python",
   "nbconvert_exporter": "python",
   "pygments_lexer": "ipython3",
   "version": "3.9.12"
  }
 },
 "nbformat": 4,
 "nbformat_minor": 5
}
