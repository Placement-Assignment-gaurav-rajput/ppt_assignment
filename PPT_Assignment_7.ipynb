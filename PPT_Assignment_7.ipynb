{
 "cells": [
  {
   "cell_type": "markdown",
   "id": "323d7991",
   "metadata": {},
   "source": [
    "## Question 1\n",
    "Given two strings s and t, *determine if they are isomorphic*.\n",
    "\n",
    "Two strings s and t are isomorphic if the characters in s can be replaced to get t.\n",
    "\n",
    "All occurrences of a character must be replaced with another character while preserving the order of characters. No two characters may map to the same character, but a character may map to itself."
   ]
  },
  {
   "cell_type": "code",
   "execution_count": 5,
   "id": "8e60fe98",
   "metadata": {},
   "outputs": [
    {
     "name": "stdout",
     "output_type": "stream",
     "text": [
      "True\n"
     ]
    }
   ],
   "source": [
    "def isomorphicString(s: str, t: str) -> bool:\n",
    "    if len(s) != len(t):\n",
    "        return False\n",
    "\n",
    "    s_map, t_map = dict(), dict()\n",
    "\n",
    "    for i in range(len(s)):\n",
    "        if s[i] not in s_map:\n",
    "            s_map[s[i]] = t[i]\n",
    "        elif s_map[s[i]] != t[i]:\n",
    "            return False\n",
    "\n",
    "        if t[i] not in t_map:\n",
    "            t_map[t[i]] = s[i]\n",
    "        elif t_map[t[i]] != s[i]:\n",
    "            return False\n",
    "\n",
    "    return True\n",
    "\n",
    "\n",
    "if __name__ == \"__main__\":\n",
    "    s = 'egg'\n",
    "    t = 'add'\n",
    "    print(isomorphicString(s, t))\n",
    "    "
   ]
  },
  {
   "cell_type": "markdown",
   "id": "8b1dfbf9",
   "metadata": {},
   "source": [
    "## Question 2\n",
    "\n",
    "Given a string num which represents an integer, return true *if* num *is a **strobogrammatic number***.\n",
    "\n",
    "A **strobogrammatic number** is a number that looks the same when rotated 180 degrees (looked at upside down)."
   ]
  },
  {
   "cell_type": "code",
   "execution_count": 28,
   "id": "0e8355e8",
   "metadata": {},
   "outputs": [
    {
     "name": "stdout",
     "output_type": "stream",
     "text": [
      "True\n"
     ]
    }
   ],
   "source": [
    "def strobogrammaticNumber(num: str) -> bool:\n",
    "    hmap = {'0':'0', '1':'1', '6':'9', '8':'8', '9':'6'}\n",
    "    rev, res = list(), \"\"\n",
    "    for i in range(len(num)-1, -1, -1):\n",
    "        rev.append(num[i])\n",
    "        \n",
    "    for i in rev:\n",
    "        if i in hmap:\n",
    "            res+=hmap[i]\n",
    "            \n",
    "    return res==num\n",
    "        \n",
    "        \n",
    "if __name__ == \"__main__\":\n",
    "    n = '69'\n",
    "    print(strobogrammaticNumber(n))"
   ]
  },
  {
   "cell_type": "code",
   "execution_count": 7,
   "id": "51ae98c5",
   "metadata": {},
   "outputs": [
    {
     "name": "stdout",
     "output_type": "stream",
     "text": [
      "False\n"
     ]
    }
   ],
   "source": [
    "def strobogrammatic_Number(num: str) -> bool:\n",
    "    mapping = {'0':'0', '1':'1', '6':'9', '8':'8', '9':'6'}\n",
    "    left = 0\n",
    "    right = len(num) - 1\n",
    "    while left <= right:\n",
    "        if num[left] in mapping and mapping[num[left]] == num[right]:\n",
    "            left += 1\n",
    "            right -= 1\n",
    "        else:\n",
    "            return False\n",
    "    return True\n",
    "\n",
    "\n",
    "if __name__ == \"__main__\":\n",
    "    n = '9'\n",
    "    print(strobogrammatic_Number(n))\n"
   ]
  },
  {
   "cell_type": "markdown",
   "id": "877e160b",
   "metadata": {},
   "source": [
    "## Question 3\n",
    "\n",
    "Given two non-negative integers, num1 and num2 represented as string, return *the sum of* num1 *and* num2 *as a string*.\n",
    "\n",
    "You must solve the problem without using any built-in library for handling large integers (such as BigInteger). You must also not convert the inputs to integers directly.\n",
    "\n",
    "</aside>"
   ]
  },
  {
   "cell_type": "code",
   "execution_count": 8,
   "id": "9322405d",
   "metadata": {},
   "outputs": [
    {
     "name": "stdout",
     "output_type": "stream",
     "text": [
      "134\n"
     ]
    }
   ],
   "source": [
    "def addStrings(num1: str, num2: str) -> str:\n",
    "    i = len(num1) - 1\n",
    "    j = len(num2) - 1\n",
    "    carry = 0\n",
    "    res = \"\"\n",
    "    while i >= 0 or j >= 0 or carry:\n",
    "        if i >= 0:\n",
    "            carry += ord(num1[i]) - ord('0')\n",
    "            i -= 1\n",
    "        if j >= 0:\n",
    "            carry += ord(num2[j]) - ord('0')\n",
    "            j -= 1\n",
    "        res += str(carry % 10)\n",
    "        carry //= 10\n",
    "    return res[::-1]\n",
    "\n",
    "\n",
    "if __name__ == \"__main__\":\n",
    "    num1 = \"11\"\n",
    "    num2 = \"123\"\n",
    "    x = addStrings(num1, num2)\n",
    "    print(x)"
   ]
  },
  {
   "cell_type": "markdown",
   "id": "b478a214",
   "metadata": {},
   "source": [
    "## Question 4\n",
    "\n",
    "Given a string 's', reverse the order of characters in each word within a sentence while still preserving whitespace and initial word order."
   ]
  },
  {
   "cell_type": "code",
   "execution_count": 25,
   "id": "4dda0638",
   "metadata": {},
   "outputs": [
    {
     "name": "stdout",
     "output_type": "stream",
     "text": [
      "s'teL ekat  edoCteeL tsetnoc\n"
     ]
    }
   ],
   "source": [
    "def reverseOrder(string: str) -> str:\n",
    "    word, rev_str = '', ''\n",
    "    string = string + ' '\n",
    "    \n",
    "    for char in string:\n",
    "        if char != ' ':\n",
    "            word = char + word\n",
    "        \n",
    "        elif char == ' ':\n",
    "            rev_str += word+' '\n",
    "            word = ''\n",
    "            \n",
    "    return rev_str[:len(string)-1:]\n",
    "\n",
    "\n",
    "if __name__ == \"__main__\":\n",
    "    s = \"Let's take  LeetCode contest\"\n",
    "    print(reverseOrder(s))"
   ]
  },
  {
   "cell_type": "markdown",
   "id": "b67df9c3",
   "metadata": {},
   "source": [
    "## Question 5\n",
    "\n",
    "Given a string s and an integer k, reverse the first k characters for every 2k characters counting from the start of the string.\n",
    "\n",
    "If there are fewer than k characters left, reverse all of them. If there are less than 2k but greater than or equal to k characters, then reverse the first k characters and leave the other as original."
   ]
  },
  {
   "cell_type": "code",
   "execution_count": 9,
   "id": "92e26180",
   "metadata": {},
   "outputs": [
    {
     "name": "stdout",
     "output_type": "stream",
     "text": [
      "bacdfeg\n"
     ]
    }
   ],
   "source": [
    "def reverseStr(s: str, k: int) -> str:\n",
    "    arr = list(s)\n",
    "    for i in range(0, len(arr), 2*k):\n",
    "        left = i\n",
    "        right = min(i+k-1, len(arr)-1)\n",
    "        while left < right:\n",
    "            arr[left], arr[right] = arr[right], arr[left]\n",
    "            left += 1\n",
    "            right -= 1\n",
    "    return ''.join(arr)\n",
    "\n",
    "\n",
    "if __name__ == \"__main__\":\n",
    "    s, k = \"abcdefg\", 2\n",
    "    print(reverseStr(s, k))"
   ]
  },
  {
   "cell_type": "markdown",
   "id": "8578ed23",
   "metadata": {},
   "source": [
    "## Question 6\n",
    "\n",
    "Given two strings s and goal, return true *if and only if* s *can become* goal *after some number of **shifts** on* s.\n",
    "\n",
    "A **shift** on s consists of moving the leftmost character of s to the rightmost position."
   ]
  },
  {
   "cell_type": "code",
   "execution_count": 10,
   "id": "000bd72d",
   "metadata": {},
   "outputs": [
    {
     "name": "stdout",
     "output_type": "stream",
     "text": [
      "True\n"
     ]
    }
   ],
   "source": [
    "def ifShifted(s:str, goal:str) -> bool:\n",
    "    nums = list(s)\n",
    "    goal_ar = list(goal)\n",
    "    for i in range(len(nums)):\n",
    "        k = 1\n",
    "        k %= len(nums)\n",
    "        nums[:k], nums[k:] = nums[len(nums)-k:], nums[:len(nums)-k]\n",
    "        if nums == goal_ar:\n",
    "            return True\n",
    "    return False\n",
    "\n",
    "\n",
    "if __name__ == \"__main__\":\n",
    "    s = \"abcde\"\n",
    "    goal = \"cdeab\"\n",
    "    print(ifShifted(s, goal))"
   ]
  },
  {
   "cell_type": "markdown",
   "id": "0a04ce2f",
   "metadata": {},
   "source": [
    "## Question 7\n",
    "\n",
    "Given two strings s and t, return true *if they are equal when both are typed into empty text editors*. '#' means a backspace character.\n",
    "\n",
    "Note that after backspacing an empty text, the text will continue empty."
   ]
  },
  {
   "cell_type": "code",
   "execution_count": 11,
   "id": "48dc96ac",
   "metadata": {},
   "outputs": [
    {
     "name": "stdout",
     "output_type": "stream",
     "text": [
      "True\n"
     ]
    }
   ],
   "source": [
    "\n",
    "def backspaceCompare(s: str, t: str) -> bool:\n",
    "    def build(s):\n",
    "        ans = []\n",
    "        for c in s:\n",
    "            if c != '#':\n",
    "                ans.append(c)\n",
    "            elif ans:\n",
    "                ans.pop()\n",
    "        return \"\".join(ans)\n",
    "    return build(s) == build(t)\n",
    "\n",
    "\n",
    "if __name__ == \"__main__\":\n",
    "    s = 'ab#c'\n",
    "    t = 'ad#c'\n",
    "    print(backspaceCompare(s, t))\n"
   ]
  },
  {
   "cell_type": "markdown",
   "id": "007bafb0",
   "metadata": {},
   "source": [
    "## Question 8\n",
    "\n",
    "You are given an array coordinates, coordinates[i] = [x, y], where [x, y] represents the coordinate of a point. Check if these points make a straight line in the XY plane."
   ]
  },
  {
   "cell_type": "code",
   "execution_count": 27,
   "id": "3e32bd9e",
   "metadata": {},
   "outputs": [
    {
     "name": "stdout",
     "output_type": "stream",
     "text": [
      "True\n"
     ]
    }
   ],
   "source": [
    "# Simply checking the slope of line at every point is same.\n",
    "\n",
    "from typing import List\n",
    "\n",
    "def isStraightLine(coordinates: List[List[int]]) -> bool:\n",
    "    \n",
    "    if len(coordinates)==2:\n",
    "        return True\n",
    "    x0, x1 = coordinates[0][0], coordinates[1][0]\n",
    "    y0, y1 = coordinates[0][1], coordinates[1][1]\n",
    "    dx = x1 - x0\n",
    "    dy = y1 - y0\n",
    "    \n",
    "    for i in range(2, len(coordinates)):\n",
    "        x, y = coordinates[i][0], coordinates[i][1]\n",
    "        if dy*(x-x0)  != dx*(y-y0): # Using m = dy/dx = (y1 - y0)/(x1 - x0)            \n",
    "            return False\n",
    "    return True\n",
    "    \n",
    "    \n",
    "if __name__ == \"__main__\":\n",
    "    coordinates = [[1,2],[2,3],[3,4],[4,5],[5,6],[6,7]]\n",
    "    print(isStraightLine(coordinates))"
   ]
  }
 ],
 "metadata": {
  "kernelspec": {
   "display_name": "Python 3 (ipykernel)",
   "language": "python",
   "name": "python3"
  },
  "language_info": {
   "codemirror_mode": {
    "name": "ipython",
    "version": 3
   },
   "file_extension": ".py",
   "mimetype": "text/x-python",
   "name": "python",
   "nbconvert_exporter": "python",
   "pygments_lexer": "ipython3",
   "version": "3.9.12"
  }
 },
 "nbformat": 4,
 "nbformat_minor": 5
}
