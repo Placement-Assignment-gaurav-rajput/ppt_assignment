{
 "cells": [
  {
   "cell_type": "markdown",
   "id": "e74f0fc1",
   "metadata": {},
   "source": [
    "## Question 1\n",
    "\n",
    "Given two strings s1 and s2, return *the lowest **ASCII** sum of deleted characters to make two strings equal*."
   ]
  },
  {
   "cell_type": "code",
   "execution_count": 1,
   "id": "ce5361d4",
   "metadata": {},
   "outputs": [
    {
     "name": "stdout",
     "output_type": "stream",
     "text": [
      "231\n"
     ]
    }
   ],
   "source": [
    "def lowestASCII(s1: str, s2:str) -> int:\n",
    "    res = list()\n",
    "    lowest_ascii = 0\n",
    "    for i in s1:\n",
    "        if i not in s2:\n",
    "            res.append(i)\n",
    "            \n",
    "    for j in s2:\n",
    "        if j not in s1:\n",
    "            res.append(j)\n",
    "            \n",
    "    for k in res:\n",
    "        lowest_ascii += ord(k)\n",
    "        \n",
    "    return lowest_ascii\n",
    "            \n",
    "if __name__ == \"__main__\":\n",
    "    s1 = 'sea'\n",
    "    s2 = 'eat'\n",
    "    print(lowestASCII(s1, s2))\n",
    "        "
   ]
  },
  {
   "cell_type": "markdown",
   "id": "45682f18",
   "metadata": {},
   "source": [
    "## Question 2\n",
    "\n",
    "Given a string s containing only three types of characters: '(', ')' and '*', return true *if* s *is **valid***.\n",
    "\n",
    "The following rules define a **valid** string:\n",
    "\n",
    "- Any left parenthesis '(' must have a corresponding right parenthesis ')'.\n",
    "- Any right parenthesis ')' must have a corresponding left parenthesis '('.\n",
    "- Left parenthesis '(' must go before the corresponding right parenthesis ')'.\n",
    "- '*' could be treated as a single right parenthesis ')' or a single left parenthesis '(' or an empty string \"\"."
   ]
  },
  {
   "cell_type": "code",
   "execution_count": 2,
   "id": "a5641728",
   "metadata": {},
   "outputs": [
    {
     "name": "stdout",
     "output_type": "stream",
     "text": [
      "True\n"
     ]
    }
   ],
   "source": [
    "def check_valid_string(s: str) -> bool:\n",
    "    stack = list()\n",
    "    asterisks = list()\n",
    "    for i, c in enumerate(s):\n",
    "        if c == '(':\n",
    "            stack.append(i)\n",
    "        elif c == '*':\n",
    "            asterisks.append(i)\n",
    "        else:\n",
    "            if not stack and not asterisks:\n",
    "                return False\n",
    "            if stack:\n",
    "                stack.pop()\n",
    "            else:\n",
    "                asterisks.pop()\n",
    "    while stack and asterisks:\n",
    "        if stack[-1] > asterisks[-1]:\n",
    "            return False\n",
    "        stack.pop()\n",
    "        asterisks.pop()\n",
    "    return not stack\n",
    "\n",
    "\n",
    "\n",
    "if __name__ == \"__main__\":\n",
    "    s = '(*))'\n",
    "    print(check_valid_string(s))\n"
   ]
  },
  {
   "cell_type": "markdown",
   "id": "e460bd4f",
   "metadata": {},
   "source": [
    "## Question 3\n",
    "\n",
    "Given two strings word1 and word2, return *the minimum number of **steps** required to make* word1 *and* word2 *the same*.\n",
    "\n",
    "In one **step**, you can delete exactly one character in either string."
   ]
  },
  {
   "cell_type": "code",
   "execution_count": 3,
   "id": "fae5ccc8",
   "metadata": {},
   "outputs": [
    {
     "name": "stdout",
     "output_type": "stream",
     "text": [
      "2\n"
     ]
    }
   ],
   "source": [
    "from collections import Counter\n",
    "\n",
    "def minSteps(s: str, t: str) -> int:\n",
    "    counts_s = Counter(s)\n",
    "    counts_t = Counter(t)\n",
    "    steps = 0\n",
    "    for c in counts_s: \n",
    "        diff = counts_s[c] - counts_t[c]\n",
    "        if diff != 0:\n",
    "            if counts_s[c] > counts_t[c]:\n",
    "                counts_s[c] -= abs(diff)\n",
    "                steps += abs(diff)\n",
    "            else:\n",
    "                counts_t[c] -= abs(diff)\n",
    "                steps += abs(diff)\n",
    "            \n",
    "    for c in counts_t:\n",
    "        diff = counts_t[c] - counts_s[c]\n",
    "        if diff != 0:\n",
    "            steps += abs(diff)\n",
    "    return steps\n",
    "\n",
    "\n",
    "if __name__ == \"__main__\":\n",
    "    word1 = \"sea\"\n",
    "    word2 = \"eat\"\n",
    "    print(minSteps(word1, word2))"
   ]
  },
  {
   "cell_type": "code",
   "execution_count": 4,
   "id": "90195fcb",
   "metadata": {},
   "outputs": [
    {
     "data": {
      "text/plain": [
       "4"
      ]
     },
     "execution_count": 4,
     "metadata": {},
     "output_type": "execute_result"
    }
   ],
   "source": [
    "minSteps('leetcode', 'ecto')"
   ]
  },
  {
   "cell_type": "markdown",
   "id": "428e1c04",
   "metadata": {},
   "source": [
    "## Question 4\n",
    "\n",
    "You need to construct a binary tree from a string consisting of parenthesis and integers.\n",
    "\n",
    "The whole input represents a binary tree. It contains an integer followed by zero, one or two pairs of parenthesis. The integer represents the root's value and a pair of parenthesis contains a child binary tree with the same structure.\n",
    "You always start to construct the **left** child node of the parent first if it exists."
   ]
  },
  {
   "cell_type": "code",
   "execution_count": 5,
   "id": "d70a5f9d",
   "metadata": {},
   "outputs": [
    {
     "name": "stdout",
     "output_type": "stream",
     "text": [
      "4 2 3 1 6 5 "
     ]
    }
   ],
   "source": [
    "class Node:\n",
    "    def __init__(self,val):\n",
    "        self.val = val\n",
    "        self.left = None\n",
    "        self.right = None\n",
    "\n",
    "def constructtree(s,start):\n",
    "    if len(s) == 0 or start[0] >= len(s):\n",
    "        return None\n",
    "    root = Node(int(s[start[0]]))\n",
    "    start[0] += 1\n",
    "    if start[0] < len(s) and s[start[0]] == '(':\n",
    "        start[0] += 1\n",
    "        root.left = constructtree(s,start)\n",
    "    if start[0] < len(s) and s[start[0]] == ')':\n",
    "        start[0] += 1\n",
    "    if start[0] < len(s) and s[start[0]] == '(':\n",
    "        start[0] += 1\n",
    "        root.right = constructtree(s,start)\n",
    "    if start[0] < len(s) and s[start[0]] == ')':\n",
    "        start[0] += 1\n",
    "    return root\n",
    "\n",
    "def preorder(root):\n",
    "    if not root:\n",
    "        return\n",
    "    print(root.val,end=' ')\n",
    "    preorder(root.left)\n",
    "    preorder(root.right)\n",
    "\n",
    "s = \"4(2(3)(1))(6(5))\"\n",
    "start = [0]\n",
    "root = constructtree(s,start)\n",
    "preorder(root)\n"
   ]
  },
  {
   "cell_type": "markdown",
   "id": "750dbd2b",
   "metadata": {},
   "source": [
    "## Question 5\n",
    "\n",
    "Given an array of characters chars, compress it using the following algorithm:\n",
    "\n",
    "Begin with an empty string s. For each group of consecutive repeating characters in chars:\n",
    "\n",
    "If the group's length is 1, append the character to s.\n",
    "Otherwise, append the character followed by the group's length.\n",
    "The compressed string s should not be returned separately, but instead, be stored in the input character array chars. Note that group lengths that are 10 or longer will be split into multiple characters in chars.\n",
    "\n",
    "After you are done modifying the input array, return the new length of the array.\n",
    "\n",
    "You must write an algorithm that uses only constant extra space."
   ]
  },
  {
   "cell_type": "code",
   "execution_count": 6,
   "id": "18f32309",
   "metadata": {},
   "outputs": [
    {
     "name": "stdout",
     "output_type": "stream",
     "text": [
      "6\n"
     ]
    }
   ],
   "source": [
    "def compress(chars):\n",
    "    i=0\n",
    "    count=1\n",
    "    while i<len(chars)-1:\n",
    "        if chars[i+1]==chars[i]:\n",
    "            chars.pop(i+1)\n",
    "            count+=1\n",
    "        elif count>1:\n",
    "            cc=[*str(count)]\n",
    "            for j in range(len(cc)):\n",
    "                chars.insert(i+j+1,cc[j])\n",
    "            count=1\n",
    "            i+=len(cc)+1\n",
    "        else:\n",
    "            i+=1\n",
    "    if count>1:\n",
    "        chars+=[*str(count)]\n",
    "    return len(chars)\n",
    "\n",
    "chars = [\"a\",\"a\",\"b\",\"b\",\"c\",\"c\",\"c\"]\n",
    "print(compress(chars))"
   ]
  },
  {
   "cell_type": "markdown",
   "id": "d3c408c0",
   "metadata": {},
   "source": [
    "## Question 6\n",
    "\n",
    "Given two strings s and p, return an array of all the start indices of p's anagrams in s. You may return the answer in any order.\n",
    "\n",
    "An Anagram is a word or phrase formed by rearranging the letters of a different word or phrase, typically using all the original letters exactly once."
   ]
  },
  {
   "cell_type": "code",
   "execution_count": 7,
   "id": "422ef495",
   "metadata": {},
   "outputs": [
    {
     "name": "stdout",
     "output_type": "stream",
     "text": [
      "[0, 6]\n"
     ]
    }
   ],
   "source": [
    "import collections\n",
    "\n",
    "def findAnagrams(s, p):\n",
    "    hm, res, pL, sL = collections.defaultdict(int), [], len(p), len(s)\n",
    "    if pL > sL: return []\n",
    "\n",
    "    for ch in p: hm[ch] += 1\n",
    "\n",
    "    for i in range(pL-1):\n",
    "        if s[i] in hm: hm[s[i]] -= 1\n",
    "\n",
    "    for i in range(-1, sL-pL+1):\n",
    "        if i > -1 and s[i] in hm:\n",
    "            hm[s[i]] += 1\n",
    "        if i+pL < sL and s[i+pL] in hm: \n",
    "            hm[s[i+pL]] -= 1\n",
    "\n",
    "        if all(v == 0 for v in hm.values()): \n",
    "            res.append(i+1)\n",
    "\n",
    "    return res\n",
    "\n",
    "\n",
    "s = \"cbaebabacd\"\n",
    "p = \"abc\"\n",
    "print(findAnagrams(s, p))"
   ]
  },
  {
   "cell_type": "markdown",
   "id": "58a484c4",
   "metadata": {},
   "source": [
    "## Question 7\n",
    "Decode the string"
   ]
  },
  {
   "cell_type": "code",
   "execution_count": 8,
   "id": "d2dfc7c6",
   "metadata": {},
   "outputs": [
    {
     "name": "stdout",
     "output_type": "stream",
     "text": [
      "aaabcbc\n"
     ]
    }
   ],
   "source": [
    "def decodeString(s: str) -> str:\n",
    "    num = 0\n",
    "    string = ''\n",
    "    stack = []\n",
    "    for c in s:\n",
    "        if c.isdigit():\n",
    "            num = num*10 + int(c)\n",
    "        elif c == \"[\":\n",
    "            stack.append(string)\n",
    "            stack.append(num)\n",
    "            string = ''\n",
    "            num = 0\n",
    "        elif c.isalpha():\n",
    "            string += c\n",
    "        elif c == ']':\n",
    "            pre_num = stack.pop()\n",
    "            pre_string = stack.pop()\n",
    "            string = pre_string + pre_num * string\n",
    "    return string\n",
    "\n",
    "\n",
    "if __name__ == \"__main__\":\n",
    "    s = \"3[a]2[bc]\"\n",
    "    print(decodeString(s))"
   ]
  },
  {
   "cell_type": "markdown",
   "id": "3be9780d",
   "metadata": {},
   "source": [
    "## Question 8\n",
    "Given two strings s and goal, return true *if you can swap two letters in* s *so the result is equal to* goal*, otherwise, return* false*.*\n",
    "\n",
    "Swapping letters is defined as taking two indices i and j (0-indexed) such that i != j and swapping the characters at s[i] and s[j]."
   ]
  },
  {
   "cell_type": "code",
   "execution_count": 9,
   "id": "43118bd1",
   "metadata": {},
   "outputs": [
    {
     "name": "stdout",
     "output_type": "stream",
     "text": [
      "True\n"
     ]
    }
   ],
   "source": [
    "def SwapLetters(s: str, goal: str) -> bool:\n",
    "\n",
    "    # When length of both strs is different, it's False.\n",
    "    if len(s) != len(goal): \n",
    "        return False\n",
    "\n",
    "    # When both strs are same.\n",
    "    # And there is atleast 2 different chars in s.\n",
    "    if s == goal: \n",
    "        return len(set(s)) < len(s)\n",
    "\n",
    "    ar = list()\n",
    "\n",
    "    # Iterating in range of either of the strs.\n",
    "    for i in range(len(s)):\n",
    "\n",
    "        if s[i] != goal[i]:\n",
    "              ar.append([s[i], goal[i]])\n",
    "\n",
    "    # There can only be 2 misplaced chars.\n",
    "    # Hence the length of c can't be more than 2.\n",
    "    # And both the elements are palindrome of each other.\n",
    "    if len(ar) == 2: \n",
    "        return ar[0] == ar[-1][::-1]\n",
    "\n",
    "    return False\n",
    "\n",
    "\n",
    "if __name__ == \"__main__\":\n",
    "    s, goal = 'cbad', 'abcd'\n",
    "    print(SwapLetters(s, goal))"
   ]
  }
 ],
 "metadata": {
  "kernelspec": {
   "display_name": "Python 3 (ipykernel)",
   "language": "python",
   "name": "python3"
  },
  "language_info": {
   "codemirror_mode": {
    "name": "ipython",
    "version": 3
   },
   "file_extension": ".py",
   "mimetype": "text/x-python",
   "name": "python",
   "nbconvert_exporter": "python",
   "pygments_lexer": "ipython3",
   "version": "3.9.12"
  }
 },
 "nbformat": 4,
 "nbformat_minor": 5
}
